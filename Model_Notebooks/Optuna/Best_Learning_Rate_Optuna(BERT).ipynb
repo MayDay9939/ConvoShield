{
  "cells": [
    {
      "cell_type": "markdown",
      "metadata": {
        "id": "ieldBbYIfzQf"
      },
      "source": [
        "# Data Preparation"
      ]
    },
    {
      "cell_type": "code",
      "execution_count": 54,
      "metadata": {
        "colab": {
          "base_uri": "https://localhost:8080/"
        },
        "id": "qbvwzeomelaG",
        "outputId": "06edac7d-dec4-4d05-d737-532936634212"
      },
      "outputs": [
        {
          "name": "stdout",
          "output_type": "stream",
          "text": [
            "Keras = 3.8.0\n",
            "Num GPUs Available:  1\n"
          ]
        }
      ],
      "source": [
        "import os\n",
        "\n",
        "import keras\n",
        "\n",
        "print(\"Keras = {}\".format(keras.__version__))\n",
        "import tensorflow as tf\n",
        "\n",
        "os.environ['TF_CPP_MIN_LOG_LEVEL'] = '3'  # or any {'0', '1', '2'}\n",
        "import matplotlib.pyplot as plt\n",
        "import numpy as np\n",
        "from keras.models import load_model\n",
        "import seaborn as sns\n",
        "import pandas as pd\n",
        "\n",
        "# Print gpus\n",
        "gpus = tf.config.experimental.list_physical_devices('GPU')\n",
        "print(\"Num GPUs Available: \", len(gpus))\n",
        "\n",
        "model_file = 'bert_less_layers.keras'"
      ]
    },
    {
      "cell_type": "code",
      "execution_count": 55,
      "metadata": {
        "colab": {
          "base_uri": "https://localhost:8080/"
        },
        "id": "vgliF7i_ffzP",
        "outputId": "d68f333b-28db-45e1-cae7-1bf73d22bc78"
      },
      "outputs": [
        {
          "name": "stdout",
          "output_type": "stream",
          "text": [
            "Drive already mounted at /content/drive; to attempt to forcibly remount, call drive.mount(\"/content/drive\", force_remount=True).\n"
          ]
        }
      ],
      "source": [
        "from google.colab import drive\n",
        "drive.mount('/content/drive')"
      ]
    },
    {
      "cell_type": "markdown",
      "metadata": {
        "id": "gG379Np7gc-_"
      },
      "source": [
        "# Load the Dataset"
      ]
    },
    {
      "cell_type": "code",
      "execution_count": 56,
      "metadata": {
        "colab": {
          "base_uri": "https://localhost:8080/"
        },
        "id": "3jMqgGriglnI",
        "outputId": "33392967-0629-462a-b9e2-ba694bf79ddd"
      },
      "outputs": [
        {
          "name": "stdout",
          "output_type": "stream",
          "text": [
            "Combined dataset saved successfully!\n",
            "First 5 rows of the combined dataset:\n",
            "                                        conversation type  label personality\n",
            "0  caller: Hello, is this John? receiver: Yes, it...  ssn      1         NaN\n",
            "1  caller: Hello, is this John? receiver: Yeah, t...  ssn      1         NaN\n",
            "2  caller: Hello, is this Mr. Johnson? receiver: ...  ssn      1         NaN\n",
            "3  caller: Hello, is this John? receiver: Yeah, t...  ssn      1         NaN\n",
            "4  caller: Hello, this is Officer Johnson from th...  ssn      1         NaN\n",
            "\n",
            "Total number of rows in the combined dataset: 5800\n",
            "Count of each label:\n",
            "label\n",
            "1    2924\n",
            "0    2876\n",
            "Name: count, dtype: int64\n"
          ]
        }
      ],
      "source": [
        "import os\n",
        "import pandas as pd\n",
        "\n",
        "# Define the directory for saving the combined dataset\n",
        "base_dir = \"/content/drive/My Drive/SIT_Capstone/\"\n",
        "csv_file = os.path.join(base_dir, \"combined_convo_dataset.csv\")\n",
        "\n",
        "# Define the paths for your datasets\n",
        "splits = {\n",
        "    'train': 'hf://datasets/BothBosu/scam-dialogue/scam-dialogue_train.csv',\n",
        "    'test': 'hf://datasets/BothBosu/scam-dialogue/scam-dialogue_test.csv',\n",
        "    'multi_agent_train': 'hf://datasets/BothBosu/multi-agent-scam-conversation/agent_conversation_train.csv',\n",
        "    'multi_agent_test': 'hf://datasets/BothBosu/multi-agent-scam-conversation/agent_conversation_test.csv',\n",
        "    'single_agent_train': 'hf://datasets/BothBosu/single-agent-scam-conversations/single-agent-scam-dialogue_train.csv',\n",
        "    'single_agent_test': 'hf://datasets/BothBosu/single-agent-scam-conversations/single-agent-scam-dialogue_test.csv'\n",
        "}\n",
        "gen_convo_path = \"hf://datasets/BothBosu/Scammer-Conversation/gen_conver_noIdentifier_1000.csv\"\n",
        "\n",
        "# Load datasets\n",
        "try:\n",
        "    train_df = pd.read_csv(splits['train'])\n",
        "    test_df = pd.read_csv(splits['test'])\n",
        "    multi_agent_train_df = pd.read_csv(splits['multi_agent_train'])\n",
        "    multi_agent_test_df = pd.read_csv(splits['multi_agent_test'])\n",
        "    single_agent_train_df = pd.read_csv(splits['single_agent_train'])\n",
        "    single_agent_test_df = pd.read_csv(splits['single_agent_test'])\n",
        "    gen_convo_df = pd.read_csv(gen_convo_path)\n",
        "\n",
        "    # Standardize column naming\n",
        "    for df in [train_df, test_df, multi_agent_train_df, multi_agent_test_df, single_agent_train_df, single_agent_test_df, gen_convo_df]:\n",
        "        # Rename 'dialogue' or 'conversation' to 'conversation'\n",
        "        if 'dialogue' in df.columns:\n",
        "            df.rename(columns={'dialogue': 'conversation'}, inplace=True)\n",
        "        elif 'conversation' not in df.columns:\n",
        "            raise ValueError(\"Missing both 'dialogue' and 'conversation' columns in one of the datasets.\")\n",
        "\n",
        "        # Rename 'labels' to 'label' if present\n",
        "        if 'labels' in df.columns:\n",
        "            df.rename(columns={'labels': 'label'}, inplace=True)\n",
        "\n",
        "    # Combine datasets into one\n",
        "    combined_df = pd.concat([train_df, test_df, multi_agent_train_df, multi_agent_test_df, single_agent_train_df, single_agent_test_df, gen_convo_df], ignore_index=True)\n",
        "\n",
        "    # Save the combined dataset\n",
        "    combined_df.to_csv(csv_file, index=False)\n",
        "    print(\"Combined dataset saved successfully!\")\n",
        "\n",
        "    # Print details\n",
        "    print(\"First 5 rows of the combined dataset:\")\n",
        "    print(combined_df.head())\n",
        "\n",
        "    # Total count of rows in the combined dataset\n",
        "    total_count = len(combined_df)\n",
        "    print(f\"\\nTotal number of rows in the combined dataset: {total_count}\")\n",
        "\n",
        "    # Count of each label\n",
        "    if 'label' in combined_df.columns:\n",
        "        label_counts = combined_df['label'].value_counts()\n",
        "        print(\"Count of each label:\")\n",
        "        print(label_counts)\n",
        "    else:\n",
        "        print(\"Warning: No 'label' column found in the combined dataset.\")\n",
        "\n",
        "except Exception as e:\n",
        "    print(f\"An error occurred: {e}\")"
      ]
    },
    {
      "cell_type": "markdown",
      "metadata": {
        "id": "SRUDUCi5Q68y"
      },
      "source": [
        "# Data Cleaning"
      ]
    },
    {
      "cell_type": "code",
      "execution_count": 57,
      "metadata": {
        "colab": {
          "base_uri": "https://localhost:8080/"
        },
        "id": "rAcAtO-aQ8e3",
        "outputId": "b8ad7d8d-b66a-4e4a-b021-90c99cf43e31"
      },
      "outputs": [
        {
          "name": "stdout",
          "output_type": "stream",
          "text": [
            "Total rows after removing duplicates: 5556\n",
            "label\n",
            "0    2839\n",
            "1    2717\n",
            "Name: count, dtype: int64\n"
          ]
        }
      ],
      "source": [
        "# Remove duplicates\n",
        "combined_df = combined_df.drop_duplicates()\n",
        "print(f\"Total rows after removing duplicates: {len(combined_df)}\")\n",
        "\n",
        "# Print new label_counts\n",
        "label_counts = combined_df['label'].value_counts()\n",
        "print(label_counts)"
      ]
    },
    {
      "cell_type": "markdown",
      "metadata": {
        "id": "ink-skSqoTMF"
      },
      "source": [
        "# Ratio of Normal to Fraud data Distribution"
      ]
    },
    {
      "cell_type": "code",
      "execution_count": 58,
      "metadata": {
        "colab": {
          "base_uri": "https://localhost:8080/",
          "height": 573
        },
        "id": "egM9JEeloQjf",
        "outputId": "c20d997d-64e1-4135-e5df-93c62eedf830"
      },
      "outputs": [
        {
          "name": "stdout",
          "output_type": "stream",
          "text": [
            "Ratio of normal to fraud: 0.91\n",
            "Normal label percentage: 47.60%\n",
            "Fraud label percentage: 52.40%\n"
          ]
        },
        {
          "data": {
            "image/png": "[encoded data removed]",
            "text/plain": [
              "<Figure size 800x600 with 1 Axes>"
            ]
          },
          "metadata": {},
          "output_type": "display_data"
        }
      ],
      "source": [
        "# Count the occurrences of each label dynamically\n",
        "label_counts = df['label'].value_counts().to_dict()\n",
        "\n",
        "# Total number of entries\n",
        "total_count = sum(label_counts.values())\n",
        "\n",
        "# Extract counts for fraud (1) and normal (0) labels\n",
        "normal_count = label_counts.get(0, 0)\n",
        "fraud_count = label_counts.get(1, 0)\n",
        "\n",
        "# Calculate the ratio of normal to fraud\n",
        "if fraud_count > 0:  # Avoid division by zero\n",
        "    ratio = normal_count / fraud_count\n",
        "else:\n",
        "    ratio = float('inf')  # If no fraud cases, set ratio to infinity\n",
        "\n",
        "# Print the ratio and percentages\n",
        "print(f\"Ratio of normal to fraud: {ratio:.2f}\")\n",
        "print(f\"Normal label percentage: {(normal_count / total_count) * 100:.2f}%\")\n",
        "print(f\"Fraud label percentage: {(fraud_count / total_count) * 100:.2f}%\")\n",
        "\n",
        "# Visualize the label distribution as a pie chart\n",
        "plt.figure(figsize=(8, 6))\n",
        "plt.pie(\n",
        "    [normal_count, fraud_count],\n",
        "    labels=['Normal (0)', 'Fraud (1)'],\n",
        "    autopct='%1.1f%%',\n",
        "    colors=['#4CAF50', '#FF5733']\n",
        ")\n",
        "plt.title('Label Distribution: Normal vs Fraud')\n",
        "plt.show()"
      ]
    },
    {
      "cell_type": "markdown",
      "metadata": {
        "id": "4SMaW2ccx_qY"
      },
      "source": [
        "# To check for optimal max length for tokenization"
      ]
    },
    {
      "cell_type": "code",
      "execution_count": null,
      "metadata": {
        "colab": {
          "base_uri": "https://localhost:8080/"
        },
        "id": "IUyUccvo7YCC",
        "outputId": "ec772a7d-4c84-4fe6-f66f-1270167776c1"
      },
      "outputs": [
        {
          "name": "stdout",
          "output_type": "stream",
          "text": [
            "Average text length: 316.81011519078476\n",
            "Training label distribution:\n",
            "label\n",
            "0    2295\n",
            "1    2149\n",
            "Name: count, dtype: int64\n",
            "Testing label distribution:\n",
            "label\n",
            "1    568\n",
            "0    544\n",
            "Name: count, dtype: int64\n"
          ]
        }
      ],
      "source": [
        "from sklearn.model_selection import train_test_split\n",
        "\n",
        "# Select only the required columns\n",
        "X = combined_df['conversation']  # Features\n",
        "y = combined_df['label']         # Target\n",
        "\n",
        "# Split the dataset into training and testing sets with an 80:20 ratio\n",
        "X_train, X_test, y_train, y_test = train_test_split(X, y, test_size=0.2, random_state=42)\n",
        "\n",
        "avg_length = X.apply(lambda x: len(x.split())).mean()\n",
        "print(f\"Average text length: {avg_length}\")\n",
        "\n",
        "print(f\"Training label distribution:\\n{y_train.value_counts()}\")\n",
        "print(f\"Testing label distribution:\\n{y_test.value_counts()}\")"
      ]
    },
    {
      "cell_type": "markdown",
      "metadata": {
        "id": "AZaDainS7eV6"
      },
      "source": [
        "# Model Building"
      ]
    },
    {
      "cell_type": "code",
      "execution_count": null,
      "metadata": {
        "colab": {
          "base_uri": "https://localhost:8080/"
        },
        "id": "VjcF3uDkyCM4",
        "outputId": "730e4d16-0225-4770-a765-537435fb094b"
      },
      "outputs": [
        {
          "name": "stdout",
          "output_type": "stream",
          "text": [
            "Using max_length: 380\n",
            "Tokenizing testing data...\n",
            "Training set size: 4444\n",
            "Testing set size: 1112\n"
          ]
        }
      ],
      "source": [
        "from transformers import BertTokenizer\n",
        "import torch\n",
        "\n",
        "# Initialize the BERT tokenizer\n",
        "tokenizer = BertTokenizer.from_pretrained(\"bert-base-uncased\")\n",
        "\n",
        "# Dynamically set max_length based on average text length\n",
        "max_length = int(avg_length * 1.2)  # Set max_length to 120% of average length (for some buffer)\n",
        "\n",
        "# Tokenize the text data for BERT\n",
        "def tokenize_texts(texts, tokenizer, max_length):\n",
        "    return tokenizer(\n",
        "        list(texts),\n",
        "        padding='max_length',\n",
        "        truncation=True,\n",
        "        max_length=max_length,\n",
        "        return_tensors=\"pt\"\n",
        "    )\n",
        "\n",
        "# Tokenize training and testing data with dynamic max_length\n",
        "print(f\"Using max_length: {max_length}\")\n",
        "train_encodings = tokenize_texts(X_train, tokenizer, max_length=max_length)\n",
        "print(\"Tokenizing testing data...\")\n",
        "test_encodings = tokenize_texts(X_test, tokenizer, max_length=max_length)\n",
        "\n",
        "# Convert labels to torch tensors with float32 data type for binary classification\n",
        "train_labels = torch.tensor(y_train.values, dtype=torch.float32)\n",
        "test_labels = torch.tensor(y_test.values, dtype=torch.float32)\n",
        "\n",
        "# Print the size of each split\n",
        "print(f\"Training set size: {len(X_train)}\")\n",
        "print(f\"Testing set size: {len(X_test)}\")"
      ]
    },
    {
      "cell_type": "markdown",
      "metadata": {
        "id": "PAuStnxfDR1M"
      },
      "source": [
        "# Model Training (Bert)"
      ]
    },
    {
      "cell_type": "code",
      "execution_count": 62,
      "metadata": {
        "colab": {
          "base_uri": "https://localhost:8080/"
        },
        "id": "ZGa2nJaF8qZR",
        "outputId": "fd8c1cec-b583-46d2-aefe-9ffb39cb4605"
      },
      "outputs": [
        {
          "name": "stdout",
          "output_type": "stream",
          "text": [
            "Collecting optuna\n",
            "  Downloading optuna-4.2.1-py3-none-any.whl.metadata (17 kB)\n",
            "Collecting alembic>=1.5.0 (from optuna)\n",
            "  Downloading alembic-1.15.1-py3-none-any.whl.metadata (7.2 kB)\n",
            "Collecting colorlog (from optuna)\n",
            "  Downloading colorlog-6.9.0-py3-none-any.whl.metadata (10 kB)\n",
            "Requirement already satisfied: numpy in /usr/local/lib/python3.11/dist-packages (from optuna) (1.26.4)\n",
            "Requirement already satisfied: packaging>=20.0 in /usr/local/lib/python3.11/dist-packages (from optuna) (24.2)\n",
            "Requirement already satisfied: sqlalchemy>=1.4.2 in /usr/local/lib/python3.11/dist-packages (from optuna) (2.0.39)\n",
            "Requirement already satisfied: tqdm in /usr/local/lib/python3.11/dist-packages (from optuna) (4.67.1)\n",
            "Requirement already satisfied: PyYAML in /usr/local/lib/python3.11/dist-packages (from optuna) (6.0.2)\n",
            "Collecting Mako (from alembic>=1.5.0->optuna)\n",
            "  Downloading Mako-1.3.9-py3-none-any.whl.metadata (2.9 kB)\n",
            "Requirement already satisfied: typing-extensions>=4.12 in /usr/local/lib/python3.11/dist-packages (from alembic>=1.5.0->optuna) (4.12.2)\n",
            "Requirement already satisfied: greenlet!=0.4.17 in /usr/local/lib/python3.11/dist-packages (from sqlalchemy>=1.4.2->optuna) (3.1.1)\n",
            "Requirement already satisfied: MarkupSafe>=0.9.2 in /usr/local/lib/python3.11/dist-packages (from Mako->alembic>=1.5.0->optuna) (2.1.5)\n",
            "Downloading optuna-4.2.1-py3-none-any.whl (383 kB)\n",
            "\u001b[2K   \u001b[90m━━━━━━━━━━━━━━━━━━━━━━━━━━━━━━━━━━━━━━━━\u001b[0m \u001b[32m383.6/383.6 kB\u001b[0m \u001b[31m17.6 MB/s\u001b[0m eta \u001b[36m0:00:00\u001b[0m\n",
            "\u001b[?25hDownloading alembic-1.15.1-py3-none-any.whl (231 kB)\n",
            "\u001b[2K   \u001b[90m━━━━━━━━━━━━━━━━━━━━━━━━━━━━━━━━━━━━━━━━\u001b[0m \u001b[32m231.8/231.8 kB\u001b[0m \u001b[31m18.3 MB/s\u001b[0m eta \u001b[36m0:00:00\u001b[0m\n",
            "\u001b[?25hDownloading colorlog-6.9.0-py3-none-any.whl (11 kB)\n",
            "Downloading Mako-1.3.9-py3-none-any.whl (78 kB)\n",
            "\u001b[2K   \u001b[90m━━━━━━━━━━━━━━━━━━━━━━━━━━━━━━━━━━━━━━━━\u001b[0m \u001b[32m78.5/78.5 kB\u001b[0m \u001b[31m6.9 MB/s\u001b[0m eta \u001b[36m0:00:00\u001b[0m\n",
            "\u001b[?25hInstalling collected packages: Mako, colorlog, alembic, optuna\n",
            "Successfully installed Mako-1.3.9 alembic-1.15.1 colorlog-6.9.0 optuna-4.2.1\n"
          ]
        }
      ],
      "source": [
        "!pip install optuna"
      ]
    },
    {
      "cell_type": "code",
      "execution_count": 63,
      "metadata": {
        "colab": {
          "base_uri": "https://localhost:8080/"
        },
        "id": "TNq_f9ecyIBD",
        "outputId": "cf6c7eda-c44f-4631-ed88-a100d4af3a19"
      },
      "outputs": [
        {
          "name": "stderr",
          "output_type": "stream",
          "text": [
            "[I 2025-03-15 13:17:15,482] A new study created in memory with name: no-name-6c283657-e930-4dc9-b2a0-0d8c66ad8c4c\n",
            "<ipython-input-63-7699edee85df>:10: FutureWarning: suggest_loguniform has been deprecated in v3.0.0. This feature will be removed in v6.0.0. See https://github.com/optuna/optuna/releases/tag/v3.0.0. Use suggest_float(..., log=True) instead.\n",
            "  lr = trial.suggest_loguniform(\"lr\", 1e-6, 1e-3)\n",
            "/usr/local/lib/python3.11/dist-packages/transformers/optimization.py:591: FutureWarning: This implementation of AdamW is deprecated and will be removed in a future version. Use the PyTorch implementation torch.optim.AdamW instead, or set `no_deprecation_warning=True` to disable this warning\n",
            "  warnings.warn(\n",
            "Epoch 1 Training: 100%|██████████| 278/278 [01:31<00:00,  3.03it/s]\n",
            "Epoch 2 Training: 100%|██████████| 278/278 [01:31<00:00,  3.04it/s]\n",
            "Epoch 3 Training: 100%|██████████| 278/278 [01:31<00:00,  3.05it/s]\n",
            "[I 2025-03-15 13:22:11,721] Trial 0 finished with value: 0.694792742388589 and parameters: {'lr': 0.0006286475259858797}. Best is trial 0 with value: 0.694792742388589.\n",
            "Epoch 1 Training: 100%|██████████| 278/278 [01:31<00:00,  3.04it/s]\n",
            "Epoch 2 Training: 100%|██████████| 278/278 [01:31<00:00,  3.04it/s]\n",
            "Epoch 3 Training: 100%|██████████| 278/278 [01:31<00:00,  3.04it/s]\n",
            "[I 2025-03-15 13:27:08,976] Trial 1 finished with value: 0.007769042145394321 and parameters: {'lr': 1.386139176690097e-05}. Best is trial 1 with value: 0.007769042145394321.\n",
            "Epoch 1 Training: 100%|██████████| 278/278 [01:31<00:00,  3.05it/s]\n",
            "Epoch 2 Training: 100%|██████████| 278/278 [01:31<00:00,  3.05it/s]\n",
            "Epoch 3 Training: 100%|██████████| 278/278 [01:31<00:00,  3.05it/s]\n",
            "[I 2025-03-15 13:32:04,696] Trial 2 finished with value: 0.6959257772990636 and parameters: {'lr': 0.000997069566981862}. Best is trial 1 with value: 0.007769042145394321.\n",
            "Epoch 1 Training: 100%|██████████| 278/278 [01:31<00:00,  3.04it/s]\n",
            "Epoch 2 Training: 100%|██████████| 278/278 [01:31<00:00,  3.04it/s]\n",
            "Epoch 3 Training: 100%|██████████| 278/278 [01:31<00:00,  3.04it/s]\n",
            "[I 2025-03-15 13:37:01,346] Trial 3 finished with value: 0.023504423030785152 and parameters: {'lr': 5.104488745856271e-06}. Best is trial 1 with value: 0.007769042145394321.\n",
            "Epoch 1 Training: 100%|██████████| 278/278 [01:31<00:00,  3.04it/s]\n",
            "Epoch 2 Training: 100%|██████████| 278/278 [01:31<00:00,  3.04it/s]\n",
            "Epoch 3 Training: 100%|██████████| 278/278 [01:31<00:00,  3.04it/s]\n",
            "[I 2025-03-15 13:41:57,959] Trial 4 finished with value: 0.004404461801251662 and parameters: {'lr': 2.1524373826097264e-05}. Best is trial 4 with value: 0.004404461801251662.\n",
            "Epoch 1 Training: 100%|██████████| 278/278 [01:31<00:00,  3.04it/s]\n",
            "Epoch 2 Training: 100%|██████████| 278/278 [01:31<00:00,  3.05it/s]\n",
            "Epoch 3 Training: 100%|██████████| 278/278 [01:31<00:00,  3.05it/s]\n",
            "[I 2025-03-15 13:46:54,378] Trial 5 finished with value: 0.0014577945569596653 and parameters: {'lr': 4.0575176220716205e-05}. Best is trial 5 with value: 0.0014577945569596653.\n",
            "Epoch 1 Training: 100%|██████████| 278/278 [01:31<00:00,  3.04it/s]\n",
            "[I 2025-03-15 13:48:34,004] Trial 6 pruned. \n",
            "Epoch 1 Training: 100%|██████████| 278/278 [01:31<00:00,  3.04it/s]\n",
            "[I 2025-03-15 13:50:13,535] Trial 7 pruned. \n",
            "Epoch 1 Training: 100%|██████████| 278/278 [01:31<00:00,  3.05it/s]\n",
            "[I 2025-03-15 13:51:52,812] Trial 8 pruned. \n",
            "Epoch 1 Training: 100%|██████████| 278/278 [01:31<00:00,  3.04it/s]\n",
            "Epoch 2 Training: 100%|██████████| 278/278 [01:31<00:00,  3.04it/s]\n",
            "Epoch 3 Training: 100%|██████████| 278/278 [01:31<00:00,  3.04it/s]\n",
            "[I 2025-03-15 13:56:49,500] Trial 9 finished with value: 0.002712290272549061 and parameters: {'lr': 2.6565639674652742e-05}. Best is trial 5 with value: 0.0014577945569596653.\n",
            "Epoch 1 Training: 100%|██████████| 278/278 [01:31<00:00,  3.04it/s]\n",
            "Epoch 2 Training: 100%|██████████| 278/278 [01:31<00:00,  3.05it/s]\n",
            "Epoch 3 Training: 100%|██████████| 278/278 [01:31<00:00,  3.05it/s]\n",
            "[I 2025-03-15 14:01:46,185] Trial 10 finished with value: 0.000438599127976756 and parameters: {'lr': 0.00011355662263518204}. Best is trial 10 with value: 0.000438599127976756.\n",
            "Epoch 1 Training: 100%|██████████| 278/278 [01:31<00:00,  3.04it/s]\n",
            "[I 2025-03-15 14:03:25,748] Trial 11 pruned. \n",
            "Epoch 1 Training: 100%|██████████| 278/278 [01:31<00:00,  3.04it/s]\n",
            "Epoch 2 Training: 100%|██████████| 278/278 [01:31<00:00,  3.05it/s]\n",
            "Epoch 3 Training: 100%|██████████| 278/278 [01:31<00:00,  3.05it/s]\n",
            "[I 2025-03-15 14:08:21,789] Trial 12 finished with value: 0.0004139998412158872 and parameters: {'lr': 9.985504728425866e-05}. Best is trial 12 with value: 0.0004139998412158872.\n",
            "Epoch 1 Training: 100%|██████████| 278/278 [01:31<00:00,  3.05it/s]\n",
            "[I 2025-03-15 14:10:01,185] Trial 13 pruned. \n",
            "Epoch 1 Training: 100%|██████████| 278/278 [01:31<00:00,  3.04it/s]\n",
            "Epoch 2 Training: 100%|██████████| 278/278 [01:31<00:00,  3.05it/s]\n",
            "Epoch 3 Training: 100%|██████████| 278/278 [01:31<00:00,  3.05it/s]\n",
            "[I 2025-03-15 14:14:58,122] Trial 14 finished with value: 0.0007186546597430216 and parameters: {'lr': 9.602707280085837e-05}. Best is trial 12 with value: 0.0004139998412158872.\n",
            "Epoch 1 Training: 100%|██████████| 278/278 [01:31<00:00,  3.05it/s]\n",
            "[I 2025-03-15 14:16:37,427] Trial 15 pruned. \n",
            "Epoch 1 Training: 100%|██████████| 278/278 [01:31<00:00,  3.04it/s]\n",
            "[I 2025-03-15 14:18:17,018] Trial 16 pruned. \n",
            "Epoch 1 Training: 100%|██████████| 278/278 [01:31<00:00,  3.04it/s]\n",
            "Epoch 2 Training: 100%|██████████| 278/278 [01:31<00:00,  3.05it/s]\n",
            "Epoch 3 Training: 100%|██████████| 278/278 [01:31<00:00,  3.05it/s]\n",
            "[I 2025-03-15 14:23:13,349] Trial 17 finished with value: 0.000558572293708234 and parameters: {'lr': 6.48584106451367e-05}. Best is trial 12 with value: 0.0004139998412158872.\n",
            "Epoch 1 Training: 100%|██████████| 278/278 [01:31<00:00,  3.05it/s]\n",
            "[I 2025-03-15 14:24:53,330] Trial 18 pruned. \n",
            "Epoch 1 Training: 100%|██████████| 278/278 [01:31<00:00,  3.04it/s]\n",
            "[I 2025-03-15 14:26:32,890] Trial 19 pruned. \n"
          ]
        },
        {
          "name": "stdout",
          "output_type": "stream",
          "text": [
            "Best Hyperparameters: {'lr': 9.985504728425866e-05}\n"
          ]
        }
      ],
      "source": [
        "import optuna\n",
        "import torch\n",
        "from torch.utils.data import DataLoader, TensorDataset\n",
        "from transformers import BertForSequenceClassification, AdamW, get_scheduler, BertConfig\n",
        "from tqdm import tqdm\n",
        "import torch.nn.functional as F\n",
        "\n",
        "def objective(trial):\n",
        "    # Suggest a learning rate between 1e-6 and 1e-3\n",
        "    lr = trial.suggest_loguniform(\"lr\", 1e-6, 1e-3)\n",
        "\n",
        "    # Load the existing BERT configuration\n",
        "    config = BertConfig.from_pretrained(\"bert-base-uncased\")\n",
        "    config.num_hidden_layers = 6  # Reduce from 12 to 6 layers\n",
        "    config.num_labels = 1  # Binary classification\n",
        "\n",
        "    # Load model\n",
        "    model = BertForSequenceClassification(config).to(device)\n",
        "\n",
        "    # Define optimizer with trial's suggested learning rate\n",
        "    optimizer = AdamW(model.parameters(), lr=lr)\n",
        "\n",
        "    # Define number of epochs\n",
        "    epochs = 3  # Use a smaller number of epochs for faster tuning\n",
        "\n",
        "    # Define DataLoaders\n",
        "    train_loader = DataLoader(train_dataset, batch_size=16, shuffle=True)\n",
        "    test_loader = DataLoader(test_dataset, batch_size=16)\n",
        "\n",
        "    # Define scheduler\n",
        "    num_training_steps = len(train_loader) * epochs\n",
        "    num_warmup_steps = int(0.1 * num_training_steps)\n",
        "    scheduler = get_scheduler(\n",
        "        name=\"linear\", optimizer=optimizer,\n",
        "        num_warmup_steps=num_warmup_steps, num_training_steps=num_training_steps\n",
        "    )\n",
        "\n",
        "    # Training loop\n",
        "    for epoch in range(epochs):\n",
        "        model.train()\n",
        "        train_loss = 0\n",
        "\n",
        "        for batch in tqdm(train_loader, desc=f\"Epoch {epoch+1} Training\"):\n",
        "            input_ids, attention_mask, labels = [b.to(device) for b in batch]\n",
        "\n",
        "            optimizer.zero_grad()\n",
        "            outputs = model(input_ids=input_ids, attention_mask=attention_mask)\n",
        "            logits = outputs.logits.squeeze(-1)\n",
        "            loss = F.binary_cross_entropy_with_logits(logits, labels.float())\n",
        "            train_loss += loss.item()\n",
        "\n",
        "            loss.backward()\n",
        "            optimizer.step()\n",
        "            scheduler.step()\n",
        "\n",
        "        # Validation\n",
        "        model.eval()\n",
        "        val_loss = 0\n",
        "        with torch.no_grad():\n",
        "            for batch in test_loader:\n",
        "                input_ids, attention_mask, labels = [b.to(device) for b in batch]\n",
        "                outputs = model(input_ids=input_ids, attention_mask=attention_mask)\n",
        "                logits = outputs.logits.squeeze(-1)\n",
        "                loss = F.binary_cross_entropy_with_logits(logits, labels.float())\n",
        "                val_loss += loss.item()\n",
        "\n",
        "        val_loss /= len(test_loader)\n",
        "\n",
        "        # Prune trials that are not improving\n",
        "        trial.report(val_loss, epoch)\n",
        "        if trial.should_prune():\n",
        "            raise optuna.exceptions.TrialPruned()\n",
        "\n",
        "    return val_loss  # Minimize validation loss\n",
        "\n",
        "# Run Optuna optimization\n",
        "study = optuna.create_study(direction=\"minimize\")\n",
        "study.optimize(objective, n_trials=20)\n",
        "\n",
        "# Best hyperparameters\n",
        "print(\"Best Hyperparameters:\", study.best_params)"
      ]
    },
    {
      "cell_type": "markdown",
      "metadata": {
        "id": "rZaR5gxBZmfb"
      },
      "source": [
        "# Model Architecture"
      ]
    },
    {
      "cell_type": "code",
      "execution_count": 64,
      "metadata": {
        "colab": {
          "base_uri": "https://localhost:8080/"
        },
        "id": "3CtYccZXZkH7",
        "outputId": "fb30600e-a0b4-419a-fa86-4395a9910a84"
      },
      "outputs": [
        {
          "name": "stdout",
          "output_type": "stream",
          "text": [
            "BertForSequenceClassification(\n",
            "  (bert): BertModel(\n",
            "    (embeddings): BertEmbeddings(\n",
            "      (word_embeddings): Embedding(30522, 768, padding_idx=0)\n",
            "      (position_embeddings): Embedding(512, 768)\n",
            "      (token_type_embeddings): Embedding(2, 768)\n",
            "      (LayerNorm): LayerNorm((768,), eps=1e-12, elementwise_affine=True)\n",
            "      (dropout): Dropout(p=0.1, inplace=False)\n",
            "    )\n",
            "    (encoder): BertEncoder(\n",
            "      (layer): ModuleList(\n",
            "        (0-3): 4 x BertLayer(\n",
            "          (attention): BertAttention(\n",
            "            (self): BertSdpaSelfAttention(\n",
            "              (query): Linear(in_features=768, out_features=768, bias=True)\n",
            "              (key): Linear(in_features=768, out_features=768, bias=True)\n",
            "              (value): Linear(in_features=768, out_features=768, bias=True)\n",
            "              (dropout): Dropout(p=0.1, inplace=False)\n",
            "            )\n",
            "            (output): BertSelfOutput(\n",
            "              (dense): Linear(in_features=768, out_features=768, bias=True)\n",
            "              (LayerNorm): LayerNorm((768,), eps=1e-12, elementwise_affine=True)\n",
            "              (dropout): Dropout(p=0.1, inplace=False)\n",
            "            )\n",
            "          )\n",
            "          (intermediate): BertIntermediate(\n",
            "            (dense): Linear(in_features=768, out_features=3072, bias=True)\n",
            "            (intermediate_act_fn): GELUActivation()\n",
            "          )\n",
            "          (output): BertOutput(\n",
            "            (dense): Linear(in_features=3072, out_features=768, bias=True)\n",
            "            (LayerNorm): LayerNorm((768,), eps=1e-12, elementwise_affine=True)\n",
            "            (dropout): Dropout(p=0.1, inplace=False)\n",
            "          )\n",
            "        )\n",
            "      )\n",
            "    )\n",
            "    (pooler): BertPooler(\n",
            "      (dense): Linear(in_features=768, out_features=768, bias=True)\n",
            "      (activation): Tanh()\n",
            "    )\n",
            "  )\n",
            "  (dropout): Dropout(p=0.1, inplace=False)\n",
            "  (classifier): Linear(in_features=768, out_features=1, bias=True)\n",
            ")\n"
          ]
        }
      ],
      "source": [
        "# Print model architecture\n",
        "print(model)"
      ]
    },
    {
      "cell_type": "markdown",
      "metadata": {
        "id": "l7Pf011l-xyh"
      },
      "source": [
        "# Plotting the Learning Curve of the Model"
      ]
    },
    {
      "cell_type": "code",
      "execution_count": 65,
      "metadata": {
        "colab": {
          "base_uri": "https://localhost:8080/",
          "height": 472
        },
        "id": "s9BwBMXFZUUO",
        "outputId": "8b1a96fb-8fc7-4918-b433-056a0f7d404b"
      },
      "outputs": [
        {
          "data": {
            "image/png": "[encoded data removed]",
            "text/plain": [
              "<Figure size 640x480 with 1 Axes>"
            ]
          },
          "metadata": {},
          "output_type": "display_data"
        }
      ],
      "source": [
        "import matplotlib.pyplot as plt\n",
        "\n",
        "# Plot Accuracy\n",
        "plt.plot(history['train_accuracy'], label='Train Accuracy')\n",
        "plt.plot(history['val_accuracy'], label='Validation Accuracy')\n",
        "\n",
        "# Plot Loss\n",
        "plt.plot(history['train_loss'], label='Train Loss')\n",
        "plt.plot(history['val_loss'], label='Validation Loss')\n",
        "\n",
        "# Add title and labels\n",
        "plt.title('Model Accuracy and Loss')\n",
        "plt.ylabel('Accuracy / Loss')\n",
        "plt.xlabel('Epoch')\n",
        "\n",
        "# Add legend\n",
        "plt.legend(loc='upper left')\n",
        "\n",
        "# Show the plot\n",
        "plt.grid(True)  # Optional for better readability\n",
        "plt.show()"
      ]
    },
    {
      "cell_type": "markdown",
      "metadata": {
        "id": "64tfeW1fuLCQ"
      },
      "source": [
        "# Precision, Recall, F1-Score"
      ]
    },
    {
      "cell_type": "code",
      "execution_count": 67,
      "metadata": {
        "colab": {
          "base_uri": "https://localhost:8080/"
        },
        "id": "Sf0ZfCsscOxA",
        "outputId": "32245fa2-33dc-492b-d16c-36f39df9199b"
      },
      "outputs": [
        {
          "name": "stdout",
          "output_type": "stream",
          "text": [
            "              precision    recall  f1-score   support\n",
            "\n",
            "         0.0       1.00      0.99      1.00       544\n",
            "         1.0       0.99      1.00      1.00       568\n",
            "\n",
            "    accuracy                           1.00      1112\n",
            "   macro avg       1.00      1.00      1.00      1112\n",
            "weighted avg       1.00      1.00      1.00      1112\n",
            "\n"
          ]
        }
      ],
      "source": [
        "from sklearn.metrics import classification_report\n",
        "\n",
        "# Set the model to evaluation mode\n",
        "model.eval()\n",
        "\n",
        "max_length = int(avg_length * 1.2)  # Set max_length to 120% of average length (for some buffer)\n",
        "\n",
        "# Prepare the test data\n",
        "test_encodings = tokenize_texts(X_test, tokenizer, max_length=max_length)\n",
        "test_dataset = TensorDataset(\n",
        "    test_encodings['input_ids'],\n",
        "    test_encodings['attention_mask'],\n",
        "    torch.tensor(y_test.values, dtype=torch.float32)  # Make sure labels are tensors\n",
        ")\n",
        "\n",
        "# DataLoader for test data\n",
        "test_loader = DataLoader(test_dataset, batch_size=16)\n",
        "\n",
        "# Initialize lists to store true labels and predictions\n",
        "true_labels = []\n",
        "predictions = []\n",
        "\n",
        "# No gradients needed for inference\n",
        "with torch.no_grad():\n",
        "    for batch in test_loader:\n",
        "        input_ids, attention_mask, labels = [b.to(device) for b in batch]\n",
        "\n",
        "        # Forward pass\n",
        "        outputs = model(input_ids=input_ids, attention_mask=attention_mask)\n",
        "        logits = outputs.logits.squeeze(-1)\n",
        "\n",
        "        # Get the predicted probabilities\n",
        "        probs = torch.sigmoid(logits)\n",
        "        preds = (probs > 0.5).long()\n",
        "\n",
        "        # Append true labels and predicted labels\n",
        "        true_labels.extend(labels.cpu().numpy())  # Move labels back to CPU for numpy operations\n",
        "        predictions.extend(preds.cpu().numpy())   # Move predictions back to CPU for numpy operations\n",
        "\n",
        "# Generate classification report\n",
        "print(classification_report(true_labels, predictions))"
      ]
    },
    {
      "cell_type": "markdown",
      "metadata": {
        "id": "8sZbha91uPW-"
      },
      "source": [
        "# Confusion Matrix"
      ]
    },
    {
      "cell_type": "code",
      "execution_count": 69,
      "metadata": {
        "colab": {
          "base_uri": "https://localhost:8080/",
          "height": 1000
        },
        "id": "_0gQYwZluR-I",
        "outputId": "dfb83d4d-6233-4b31-d34a-e06bea82c1c5"
      },
      "outputs": [
        {
          "data": {
            "image/png": "[encoded data removed]",
            "text/plain": [
              "<Figure size 1000x800 with 2 Axes>"
            ]
          },
          "metadata": {},
          "output_type": "display_data"
        },
        {
          "data": {
            "image/png": "[encoded data removed]",
            "text/plain": [
              "<Figure size 1000x800 with 2 Axes>"
            ]
          },
          "metadata": {},
          "output_type": "display_data"
        },
        {
          "name": "stdout",
          "output_type": "stream",
          "text": [
            "DSC: 0.9973005668324142, Sensitivity: 0.9972426470588236, Specificity: 0.9972426470588236, Accuracy: 0.9973021582733813\n"
          ]
        }
      ],
      "source": [
        "import numpy as np\n",
        "import matplotlib.pyplot as plt\n",
        "import seaborn as sns\n",
        "from sklearn.metrics import confusion_matrix, accuracy_score\n",
        "import torch\n",
        "\n",
        "def calculate_metrics(y_true, y_pred, classes=['Normal', 'Fraud']):\n",
        "    \"\"\"\n",
        "    Calculate and display various evaluation metrics based on true and predicted labels.\n",
        "\n",
        "    Parameters:\n",
        "    - y_true: Array of true labels.\n",
        "    - y_pred: Array of predicted labels.\n",
        "    - classes: List of class labels (default: ['Normal', 'Fraud']).\n",
        "\n",
        "    Returns:\n",
        "    - dsc: Dice similarity coefficient (mean across classes).\n",
        "    - sensitivity: Mean sensitivity across classes.\n",
        "    - specificity: Mean specificity across classes.\n",
        "    - accuracy: Overall accuracy.\n",
        "    \"\"\"\n",
        "    # Compute the confusion matrix\n",
        "    cm = confusion_matrix(y_true, y_pred)\n",
        "\n",
        "    # Plot the confusion matrix\n",
        "    plt.figure(figsize=(10, 8))\n",
        "    sns.heatmap(cm, annot=True, fmt='g', cmap='Blues', xticklabels=classes, yticklabels=classes)\n",
        "    plt.xlabel('Predicted Values')\n",
        "    plt.ylabel('True Values')\n",
        "    plt.title('Confusion Matrix')\n",
        "    plt.show()\n",
        "\n",
        "    # Normalize the confusion matrix by row (true labels)\n",
        "    cm_normalized = cm.astype('float') / cm.sum(axis=1)[:, np.newaxis]\n",
        "\n",
        "    # Plot the normalized confusion matrix\n",
        "    plt.figure(figsize=(10, 8))\n",
        "    sns.heatmap(cm_normalized, annot=True, fmt='.2f', cmap='Blues', xticklabels=classes, yticklabels=classes)\n",
        "    plt.xlabel('Predicted Values')\n",
        "    plt.ylabel('True Values')\n",
        "    plt.title('Normalized Confusion Matrix')\n",
        "    plt.show()\n",
        "\n",
        "    # Calculate the Dice similarity coefficient (DSC) for each class and average them\n",
        "    dsc = np.mean([2.0 * cm[i, i] / (np.sum(cm[i, :]) + np.sum(cm[:, i])) for i in range(cm.shape[0])])\n",
        "\n",
        "    # Calculate the sensitivity (recall) for each class and average them\n",
        "    sensitivity = np.mean([cm[i, i] / np.sum(cm[i, :]) for i in range(cm.shape[0])])\n",
        "\n",
        "    # Calculate the specificity for each class and average them\n",
        "    specificity = np.mean([np.sum(np.delete(np.delete(cm, j, 0), j, 1)) / np.sum(np.delete(cm, j, 0)) for j in range(cm.shape[0])])\n",
        "\n",
        "    # Calculate the overall accuracy\n",
        "    accuracy = accuracy_score(y_true, y_pred)\n",
        "\n",
        "    # Print the evaluation metrics\n",
        "    print(f\"DSC: {dsc}, Sensitivity: {sensitivity}, Specificity: {specificity}, Accuracy: {accuracy}\")\n",
        "\n",
        "    return dsc, sensitivity, specificity, accuracy\n",
        "\n",
        "# Make sure model is in evaluation mode\n",
        "model.eval()\n",
        "\n",
        "max_length = int(avg_length * 1.2)  # Set max_length to 120% of average length (for some buffer)\n",
        "\n",
        "# Prepare the test data (tokenized input data for PyTorch)\n",
        "test_encodings = tokenize_texts(X_test, tokenizer, max_length=max_length)\n",
        "test_dataset = TensorDataset(\n",
        "    test_encodings['input_ids'],\n",
        "    test_encodings['attention_mask'],\n",
        "    torch.tensor(y_test.values, dtype=torch.float32)  # Ensure labels are tensors\n",
        ")\n",
        "\n",
        "# DataLoader for test data\n",
        "test_loader = DataLoader(test_dataset, batch_size=16)\n",
        "\n",
        "# Initialize lists to store true labels and predictions\n",
        "true_labels = []\n",
        "predictions = []\n",
        "\n",
        "# No gradients needed for inference\n",
        "with torch.no_grad():\n",
        "    for batch in test_loader:\n",
        "        input_ids, attention_mask, labels = [b.to(device) for b in batch]\n",
        "\n",
        "        # Forward pass\n",
        "        outputs = model(input_ids=input_ids, attention_mask=attention_mask)\n",
        "        logits = outputs.logits.squeeze(-1)\n",
        "\n",
        "        # Get the predicted probabilities\n",
        "        probs = torch.sigmoid(logits)\n",
        "        preds = (probs > 0.5).long()\n",
        "\n",
        "        # Append true labels and predicted labels\n",
        "        true_labels.extend(labels.cpu().numpy())  # Move labels back to CPU for numpy operations\n",
        "        predictions.extend(preds.cpu().numpy())   # Move predictions back to CPU for numpy operations\n",
        "\n",
        "# Calculate metrics\n",
        "dsc, sensitivity, specificity, accuracy = calculate_metrics(true_labels, predictions)\n"
      ]
    },
    {
      "cell_type": "code",
      "execution_count": null,
      "metadata": {
        "id": "VlSzdGd7OqhW"
      },
      "outputs": [],
      "source": [
        "!pip install transformers torch gradio"
      ]
    },
    {
      "cell_type": "markdown",
      "metadata": {
        "id": "JwHALW372QcM"
      },
      "source": [
        "Ignore receiver message"
      ]
    },
    {
      "cell_type": "code",
      "execution_count": null,
      "metadata": {
        "id": "WB79yJ_c2PWd"
      },
      "outputs": [],
      "source": [
        "import gradio as gr\n",
        "\n",
        "# Check device\n",
        "device = \"cuda\" if torch.cuda.is_available() else \"cpu\"\n",
        "\n",
        "# Load tokenizer\n",
        "tokenizer = BertTokenizer.from_pretrained(\"bert-base-uncased\")\n",
        "\n",
        "# Load model function\n",
        "def load_model(model_path=\"best_bert_model.pt\"):\n",
        "    config = BertConfig.from_pretrained(\"bert-base-uncased\")\n",
        "    config.num_hidden_layers = 6  # Ensure architecture matches trained model\n",
        "    config.num_labels = 1  # Binary classification\n",
        "    model = BertForSequenceClassification(config)\n",
        "    model.load_state_dict(torch.load(model_path, map_location=device))\n",
        "    model.to(device)\n",
        "    model.eval()\n",
        "    return model\n",
        "\n",
        "# Load model\n",
        "model = load_model()\n",
        "\n",
        "# Function to classify caller messages\n",
        "def classify_caller_message(caller_messages, scam_detected=False):\n",
        "    \"\"\"\n",
        "    Classifies the latest caller message while considering past caller messages only.\n",
        "    \"\"\"\n",
        "    scam_threshold = 0.7 if scam_detected else 0.5  # Increase scam threshold after a scam is found\n",
        "\n",
        "    if not caller_messages:\n",
        "        return \"No caller messages to analyze.\", scam_detected\n",
        "\n",
        "    # Format conversation history (only caller messages)\n",
        "    input_text = \" \".join([f\"Caller: {text}\" for text in caller_messages])\n",
        "    inputs = tokenizer(input_text, padding=True, truncation=True, return_tensors=\"pt\").to(device)\n",
        "\n",
        "    # Model inference\n",
        "    with torch.no_grad():\n",
        "        outputs = model(**inputs)\n",
        "\n",
        "    # Convert logits to probability\n",
        "    prediction = torch.sigmoid(outputs.logits).item()\n",
        "\n",
        "    # Determine scam classification\n",
        "    is_scam = prediction > scam_threshold\n",
        "    response = \"🚨 Scam Alert: This message might be a scam!\" if is_scam else \"✅ Caller message seems safe.\"\n",
        "\n",
        "    return response, is_scam  # Return classification & scam detection flag\n",
        "\n",
        "# Gradio Chat Interface\n",
        "def chat_interface(speaker, message, conversation_log=[], caller_messages=[], scam_detected=False):\n",
        "    \"\"\"\n",
        "    Handles the chat flow while ensuring only the caller's messages affect scam classification.\n",
        "    \"\"\"\n",
        "    conversation_log.append((speaker, message))  # Append to full log\n",
        "\n",
        "    if speaker == \"caller\":\n",
        "        caller_messages.append(message)  # Only keep caller messages for classification\n",
        "        response, scam_detected = classify_caller_message(caller_messages, scam_detected)\n",
        "        conversation_log.append((\"System\", response))\n",
        "    else:\n",
        "        response = \"✅ Receiver message recorded (ignored for scam detection).\"  # Receiver messages do not affect model\n",
        "        conversation_log.append((\"System\", response))\n",
        "\n",
        "    return conversation_log, caller_messages, scam_detected, \"\"  # Updated states & reset input\n",
        "\n",
        "# Create Gradio UI\n",
        "with gr.Blocks() as demo:\n",
        "    chatbot = gr.Chatbot(label=\"Conversation Log\")\n",
        "    speaker = gr.Dropdown([\"caller\", \"receiver\"], label=\"Speaker\")\n",
        "    msg = gr.Textbox(placeholder=\"Enter message...\")\n",
        "    clear = gr.Button(\"Clear Chat\")\n",
        "\n",
        "    # Maintain separate states\n",
        "    caller_messages = gr.State([])  # Stores only caller messages\n",
        "    scam_flag = gr.State(False)  # Tracks scam detection\n",
        "\n",
        "    msg.submit(chat_interface, [speaker, msg, chatbot, caller_messages, scam_flag],\n",
        "               [chatbot, caller_messages, scam_flag, msg])\n",
        "\n",
        "    clear.click(lambda: ([], [], False, \"\"), outputs=[chatbot, caller_messages, scam_flag, msg])\n",
        "\n",
        "# Launch Gradio App\n",
        "demo.launch(share=True)\n"
      ]
    }
  ],
  "metadata": {
    "accelerator": "GPU",
    "colab": {
      "gpuType": "T4",
      "provenance": []
    },
    "kernelspec": {
      "display_name": "Python 3",
      "name": "python3"
    },
    "language_info": {
      "name": "python"
    }
  },
  "nbformat": 4,
  "nbformat_minor": 0
}
