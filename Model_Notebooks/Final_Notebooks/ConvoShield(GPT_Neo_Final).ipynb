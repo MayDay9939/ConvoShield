{
  "cells": [
    {
      "cell_type": "markdown",
      "metadata": {
        "id": "ieldBbYIfzQf"
      },
      "source": [
        "# Data Preparation"
      ]
    },
    {
      "cell_type": "code",
      "execution_count": 17,
      "metadata": {
        "colab": {
          "base_uri": "https://localhost:8080/"
        },
        "id": "qbvwzeomelaG",
        "outputId": "545bd3eb-b3ba-4b8f-d1f8-0414c4c5e292"
      },
      "outputs": [
        {
          "name": "stdout",
          "output_type": "stream",
          "text": [
            "Keras = 3.8.0\n",
            "Num GPUs Available:  1\n"
          ]
        }
      ],
      "source": [
        "import os\n",
        "\n",
        "import keras\n",
        "\n",
        "print(\"Keras = {}\".format(keras.__version__))\n",
        "import tensorflow as tf\n",
        "\n",
        "os.environ['TF_CPP_MIN_LOG_LEVEL'] = '3'  # or any {'0', '1', '2'}\n",
        "import matplotlib.pyplot as plt\n",
        "import numpy as np\n",
        "from keras.models import load_model\n",
        "import seaborn as sns\n",
        "import pandas as pd\n",
        "\n",
        "# Print gpus\n",
        "gpus = tf.config.experimental.list_physical_devices('GPU')\n",
        "print(\"Num GPUs Available: \", len(gpus))\n",
        "\n",
        "model_file = 'gpt_neo_fraud.keras'"
      ]
    },
    {
      "cell_type": "code",
      "execution_count": 2,
      "metadata": {
        "colab": {
          "base_uri": "https://localhost:8080/"
        },
        "id": "vgliF7i_ffzP",
        "outputId": "9109d8be-f57b-40c6-e7e0-53af8578bf28"
      },
      "outputs": [
        {
          "name": "stdout",
          "output_type": "stream",
          "text": [
            "Drive already mounted at /content/drive; to attempt to forcibly remount, call drive.mount(\"/content/drive\", force_remount=True).\n"
          ]
        }
      ],
      "source": [
        "from google.colab import drive\n",
        "drive.mount('/content/drive')"
      ]
    },
    {
      "cell_type": "markdown",
      "metadata": {
        "id": "gG379Np7gc-_"
      },
      "source": [
        "# Load the Dataset"
      ]
    },
    {
      "cell_type": "code",
      "execution_count": null,
      "metadata": {
        "colab": {
          "base_uri": "https://localhost:8080/"
        },
        "id": "3jMqgGriglnI",
        "outputId": "226b286c-8f4b-4f52-bb48-e7f73402dfe7"
      },
      "outputs": [
        {
          "name": "stderr",
          "output_type": "stream",
          "text": [
            "/usr/local/lib/python3.11/dist-packages/huggingface_hub/utils/_auth.py:94: UserWarning: \n",
            "The secret `HF_TOKEN` does not exist in your Colab secrets.\n",
            "To authenticate with the Hugging Face Hub, create a token in your settings tab (https://huggingface.co/settings/tokens), set it as secret in your Google Colab and restart your session.\n",
            "You will be able to reuse this secret in all of your notebooks.\n",
            "Please note that authentication is recommended but still optional to access public models or datasets.\n",
            "  warnings.warn(\n",
            "<ipython-input-3-675f08f7ad6d>:57: DeprecationWarning: DataFrameGroupBy.apply operated on the grouping columns. This behavior is deprecated, and in a future version of pandas the grouping columns will be excluded from the operation. Either pass `include_groups=False` to exclude the groupings or explicitly select the grouping columns after groupby to silence this warning.\n",
            "  shuffled_df = combined_df.groupby('source').apply(lambda x: x.sample(frac=1, random_state=42)).reset_index(drop=True)\n"
          ]
        },
        {
          "name": "stdout",
          "output_type": "stream",
          "text": [
            "Shuffled combined dataset saved successfully!\n",
            "First 5 rows of the shuffled dataset:\n",
            "                                        conversation type  label     source  \\\n",
            "0  Person A: Hey, how's it going? Person B: It's ...  NaN      0  gen_convo   \n",
            "1  Person A: Good morning, I'm calling from the s...  NaN      1  gen_convo   \n",
            "2  Person A: Hey, how's it going? Person B: It's ...  NaN      0  gen_convo   \n",
            "3  Person A: Hey, how's it going? Person B: It's ...  NaN      0  gen_convo   \n",
            "4  Person A: Hey, how's it going? Person B: It's ...  NaN      0  gen_convo   \n",
            "\n",
            "  personality  \n",
            "0         NaN  \n",
            "1         NaN  \n",
            "2         NaN  \n",
            "3         NaN  \n",
            "4         NaN  \n",
            "\n",
            "Total number of rows in the shuffled dataset: 5800\n",
            "Count of each label in shuffled dataset:\n",
            "label\n",
            "1    2924\n",
            "0    2876\n",
            "Name: count, dtype: int64\n"
          ]
        }
      ],
      "source": [
        "import os\n",
        "import pandas as pd\n",
        "\n",
        "# Define the directory for saving the combined dataset\n",
        "base_dir = \"/content/drive/My Drive/SIT_Capstone/\"\n",
        "csv_file = os.path.join(base_dir, \"combined_convo_dataset.csv\")\n",
        "\n",
        "# Define the paths for your datasets\n",
        "splits = {\n",
        "    'train': 'hf://datasets/BothBosu/scam-dialogue/scam-dialogue_train.csv',\n",
        "    'test': 'hf://datasets/BothBosu/scam-dialogue/scam-dialogue_test.csv',\n",
        "    'multi_agent_train': 'hf://datasets/BothBosu/multi-agent-scam-conversation/agent_conversation_train.csv',\n",
        "    'multi_agent_test': 'hf://datasets/BothBosu/multi-agent-scam-conversation/agent_conversation_test.csv',\n",
        "    'single_agent_train': 'hf://datasets/BothBosu/single-agent-scam-conversations/single-agent-scam-dialogue_train.csv',\n",
        "    'single_agent_test': 'hf://datasets/BothBosu/single-agent-scam-conversations/single-agent-scam-dialogue_test.csv'\n",
        "}\n",
        "gen_convo_path = \"hf://datasets/BothBosu/Scammer-Conversation/gen_conver_noIdentifier_1000.csv\"\n",
        "\n",
        "# Load datasets\n",
        "try:\n",
        "    train_df = pd.read_csv(splits['train'])\n",
        "    test_df = pd.read_csv(splits['test'])\n",
        "    multi_agent_train_df = pd.read_csv(splits['multi_agent_train'])\n",
        "    multi_agent_test_df = pd.read_csv(splits['multi_agent_test'])\n",
        "    single_agent_train_df = pd.read_csv(splits['single_agent_train'])\n",
        "    single_agent_test_df = pd.read_csv(splits['single_agent_test'])\n",
        "    gen_convo_df = pd.read_csv(gen_convo_path)\n",
        "\n",
        "    # Standardize column naming\n",
        "    for df in [train_df, test_df, multi_agent_train_df, multi_agent_test_df, single_agent_train_df, single_agent_test_df, gen_convo_df]:\n",
        "        # Rename 'dialogue' or 'conversation' to 'conversation'\n",
        "        if 'dialogue' in df.columns:\n",
        "            df.rename(columns={'dialogue': 'conversation'}, inplace=True)\n",
        "        elif 'conversation' not in df.columns:\n",
        "            raise ValueError(\"Missing both 'dialogue' and 'conversation' columns in one of the datasets.\")\n",
        "\n",
        "        # Rename 'labels' to 'label' if present\n",
        "        if 'labels' in df.columns:\n",
        "            df.rename(columns={'labels': 'label'}, inplace=True)\n",
        "\n",
        "    # Combine datasets into one\n",
        "    combined_df = pd.concat([train_df, test_df, multi_agent_train_df, multi_agent_test_df, single_agent_train_df, single_agent_test_df, gen_convo_df], ignore_index=True)\n",
        "\n",
        "    # Save the combined dataset\n",
        "    combined_df.to_csv(csv_file, index=False)\n",
        "    print(\"Combined dataset saved successfully!\")\n",
        "\n",
        "    # Print details\n",
        "    print(\"First 5 rows of the combined dataset:\")\n",
        "    print(combined_df.head())\n",
        "\n",
        "    # Total count of rows in the combined dataset\n",
        "    total_count = len(combined_df)\n",
        "    print(f\"\\nTotal number of rows in the combined dataset: {total_count}\")\n",
        "\n",
        "    # Count of each label\n",
        "    if 'label' in combined_df.columns:\n",
        "        label_counts = combined_df['label'].value_counts()\n",
        "        print(\"Count of each label:\")\n",
        "        print(label_counts)\n",
        "    else:\n",
        "        print(\"Warning: No 'label' column found in the combined dataset.\")\n",
        "\n",
        "except Exception as e:\n",
        "    print(f\"An error occurred: {e}\")"
      ]
    },
    {
      "cell_type": "markdown",
      "metadata": {
        "id": "SRUDUCi5Q68y"
      },
      "source": [
        "# Data Cleaning"
      ]
    },
    {
      "cell_type": "code",
      "execution_count": null,
      "metadata": {
        "colab": {
          "base_uri": "https://localhost:8080/"
        },
        "id": "rAcAtO-aQ8e3",
        "outputId": "449ddf0d-5ce4-4d41-ef75-752cf93d465b"
      },
      "outputs": [
        {
          "name": "stdout",
          "output_type": "stream",
          "text": [
            "Total rows after removing duplicates: 5557\n",
            "label\n",
            "0    2839\n",
            "1    2718\n",
            "Name: count, dtype: int64\n"
          ]
        }
      ],
      "source": [
        "# Remove duplicates\n",
        "combined_df = combined_df.drop_duplicates()\n",
        "print(f\"Total rows after removing duplicates: {len(combined_df)}\")\n",
        "\n",
        "# Print new label_counts\n",
        "label_counts = combined_df['label'].value_counts()\n",
        "print(label_counts)"
      ]
    },
    {
      "cell_type": "markdown",
      "metadata": {
        "id": "ink-skSqoTMF"
      },
      "source": [
        "# Ratio of Normal to Fraud data Distribution"
      ]
    },
    {
      "cell_type": "code",
      "execution_count": 5,
      "metadata": {
        "colab": {
          "base_uri": "https://localhost:8080/",
          "height": 573
        },
        "id": "egM9JEeloQjf",
        "outputId": "de297a47-3d10-4206-fa38-268141a60d14"
      },
      "outputs": [
        {
          "name": "stdout",
          "output_type": "stream",
          "text": [
            "Ratio of normal to fraud: 0.91\n",
            "Normal label percentage: 47.60%\n",
            "Fraud label percentage: 52.40%\n"
          ]
        },
        {
          "data": {
            "image/png": "[encoded data removed]",
            "text/plain": [
              "<Figure size 800x600 with 1 Axes>"
            ]
          },
          "metadata": {},
          "output_type": "display_data"
        }
      ],
      "source": [
        "# Count the occurrences of each label dynamically\n",
        "label_counts = df['label'].value_counts().to_dict()\n",
        "\n",
        "# Total number of entries\n",
        "total_count = sum(label_counts.values())\n",
        "\n",
        "# Extract counts for fraud (1) and normal (0) labels\n",
        "normal_count = label_counts.get(0, 0)\n",
        "fraud_count = label_counts.get(1, 0)\n",
        "\n",
        "# Calculate the ratio of normal to fraud\n",
        "if fraud_count > 0:  # Avoid division by zero\n",
        "    ratio = normal_count / fraud_count\n",
        "else:\n",
        "    ratio = float('inf')  # If no fraud cases, set ratio to infinity\n",
        "\n",
        "# Print the ratio and percentages\n",
        "print(f\"Ratio of normal to fraud: {ratio:.2f}\")\n",
        "print(f\"Normal label percentage: {(normal_count / total_count) * 100:.2f}%\")\n",
        "print(f\"Fraud label percentage: {(fraud_count / total_count) * 100:.2f}%\")\n",
        "\n",
        "# Visualize the label distribution as a pie chart\n",
        "plt.figure(figsize=(8, 6))\n",
        "plt.pie(\n",
        "    [normal_count, fraud_count],\n",
        "    labels=['Normal (0)', 'Fraud (1)'],\n",
        "    autopct='%1.1f%%',\n",
        "    colors=['#4CAF50', '#FF5733']\n",
        ")\n",
        "plt.title('Label Distribution: Normal vs Fraud')\n",
        "plt.show()"
      ]
    },
    {
      "cell_type": "markdown",
      "metadata": {
        "id": "4SMaW2ccx_qY"
      },
      "source": [
        "# Model Building"
      ]
    },
    {
      "cell_type": "code",
      "execution_count": 6,
      "metadata": {
        "colab": {
          "base_uri": "https://localhost:8080/"
        },
        "id": "l5uM0cV8HG7P",
        "outputId": "798c8521-9744-4707-89cb-2dab79a51ff1"
      },
      "outputs": [
        {
          "name": "stdout",
          "output_type": "stream",
          "text": [
            "Requirement already satisfied: transformers in /usr/local/lib/python3.11/dist-packages (4.49.0)\n",
            "Requirement already satisfied: datasets in /usr/local/lib/python3.11/dist-packages (3.4.1)\n",
            "Requirement already satisfied: torch in /usr/local/lib/python3.11/dist-packages (2.6.0+cu124)\n",
            "Requirement already satisfied: scikit-learn in /usr/local/lib/python3.11/dist-packages (1.6.1)\n",
            "Requirement already satisfied: filelock in /usr/local/lib/python3.11/dist-packages (from transformers) (3.18.0)\n",
            "Requirement already satisfied: huggingface-hub<1.0,>=0.26.0 in /usr/local/lib/python3.11/dist-packages (from transformers) (0.29.3)\n",
            "Requirement already satisfied: numpy>=1.17 in /usr/local/lib/python3.11/dist-packages (from transformers) (2.0.2)\n",
            "Requirement already satisfied: packaging>=20.0 in /usr/local/lib/python3.11/dist-packages (from transformers) (24.2)\n",
            "Requirement already satisfied: pyyaml>=5.1 in /usr/local/lib/python3.11/dist-packages (from transformers) (6.0.2)\n",
            "Requirement already satisfied: regex!=2019.12.17 in /usr/local/lib/python3.11/dist-packages (from transformers) (2024.11.6)\n",
            "Requirement already satisfied: requests in /usr/local/lib/python3.11/dist-packages (from transformers) (2.32.3)\n",
            "Requirement already satisfied: tokenizers<0.22,>=0.21 in /usr/local/lib/python3.11/dist-packages (from transformers) (0.21.1)\n",
            "Requirement already satisfied: safetensors>=0.4.1 in /usr/local/lib/python3.11/dist-packages (from transformers) (0.5.3)\n",
            "Requirement already satisfied: tqdm>=4.27 in /usr/local/lib/python3.11/dist-packages (from transformers) (4.67.1)\n",
            "Requirement already satisfied: pyarrow>=15.0.0 in /usr/local/lib/python3.11/dist-packages (from datasets) (18.1.0)\n",
            "Requirement already satisfied: dill<0.3.9,>=0.3.0 in /usr/local/lib/python3.11/dist-packages (from datasets) (0.3.8)\n",
            "Requirement already satisfied: pandas in /usr/local/lib/python3.11/dist-packages (from datasets) (2.2.2)\n",
            "Requirement already satisfied: xxhash in /usr/local/lib/python3.11/dist-packages (from datasets) (3.5.0)\n",
            "Requirement already satisfied: multiprocess<0.70.17 in /usr/local/lib/python3.11/dist-packages (from datasets) (0.70.16)\n",
            "Requirement already satisfied: fsspec<=2024.12.0,>=2023.1.0 in /usr/local/lib/python3.11/dist-packages (from fsspec[http]<=2024.12.0,>=2023.1.0->datasets) (2024.12.0)\n",
            "Requirement already satisfied: aiohttp in /usr/local/lib/python3.11/dist-packages (from datasets) (3.11.14)\n",
            "Requirement already satisfied: typing-extensions>=4.10.0 in /usr/local/lib/python3.11/dist-packages (from torch) (4.12.2)\n",
            "Requirement already satisfied: networkx in /usr/local/lib/python3.11/dist-packages (from torch) (3.4.2)\n",
            "Requirement already satisfied: jinja2 in /usr/local/lib/python3.11/dist-packages (from torch) (3.1.6)\n",
            "Requirement already satisfied: nvidia-cuda-nvrtc-cu12==12.4.127 in /usr/local/lib/python3.11/dist-packages (from torch) (12.4.127)\n",
            "Requirement already satisfied: nvidia-cuda-runtime-cu12==12.4.127 in /usr/local/lib/python3.11/dist-packages (from torch) (12.4.127)\n",
            "Requirement already satisfied: nvidia-cuda-cupti-cu12==12.4.127 in /usr/local/lib/python3.11/dist-packages (from torch) (12.4.127)\n",
            "Requirement already satisfied: nvidia-cudnn-cu12==9.1.0.70 in /usr/local/lib/python3.11/dist-packages (from torch) (9.1.0.70)\n",
            "Requirement already satisfied: nvidia-cublas-cu12==12.4.5.8 in /usr/local/lib/python3.11/dist-packages (from torch) (12.4.5.8)\n",
            "Requirement already satisfied: nvidia-cufft-cu12==11.2.1.3 in /usr/local/lib/python3.11/dist-packages (from torch) (11.2.1.3)\n",
            "Requirement already satisfied: nvidia-curand-cu12==10.3.5.147 in /usr/local/lib/python3.11/dist-packages (from torch) (10.3.5.147)\n",
            "Requirement already satisfied: nvidia-cusolver-cu12==11.6.1.9 in /usr/local/lib/python3.11/dist-packages (from torch) (11.6.1.9)\n",
            "Requirement already satisfied: nvidia-cusparse-cu12==12.3.1.170 in /usr/local/lib/python3.11/dist-packages (from torch) (12.3.1.170)\n",
            "Requirement already satisfied: nvidia-cusparselt-cu12==0.6.2 in /usr/local/lib/python3.11/dist-packages (from torch) (0.6.2)\n",
            "Requirement already satisfied: nvidia-nccl-cu12==2.21.5 in /usr/local/lib/python3.11/dist-packages (from torch) (2.21.5)\n",
            "Requirement already satisfied: nvidia-nvtx-cu12==12.4.127 in /usr/local/lib/python3.11/dist-packages (from torch) (12.4.127)\n",
            "Requirement already satisfied: nvidia-nvjitlink-cu12==12.4.127 in /usr/local/lib/python3.11/dist-packages (from torch) (12.4.127)\n",
            "Requirement already satisfied: triton==3.2.0 in /usr/local/lib/python3.11/dist-packages (from torch) (3.2.0)\n",
            "Requirement already satisfied: sympy==1.13.1 in /usr/local/lib/python3.11/dist-packages (from torch) (1.13.1)\n",
            "Requirement already satisfied: mpmath<1.4,>=1.1.0 in /usr/local/lib/python3.11/dist-packages (from sympy==1.13.1->torch) (1.3.0)\n",
            "Requirement already satisfied: scipy>=1.6.0 in /usr/local/lib/python3.11/dist-packages (from scikit-learn) (1.14.1)\n",
            "Requirement already satisfied: joblib>=1.2.0 in /usr/local/lib/python3.11/dist-packages (from scikit-learn) (1.4.2)\n",
            "Requirement already satisfied: threadpoolctl>=3.1.0 in /usr/local/lib/python3.11/dist-packages (from scikit-learn) (3.6.0)\n",
            "Requirement already satisfied: aiohappyeyeballs>=2.3.0 in /usr/local/lib/python3.11/dist-packages (from aiohttp->datasets) (2.6.1)\n",
            "Requirement already satisfied: aiosignal>=1.1.2 in /usr/local/lib/python3.11/dist-packages (from aiohttp->datasets) (1.3.2)\n",
            "Requirement already satisfied: attrs>=17.3.0 in /usr/local/lib/python3.11/dist-packages (from aiohttp->datasets) (25.3.0)\n",
            "Requirement already satisfied: frozenlist>=1.1.1 in /usr/local/lib/python3.11/dist-packages (from aiohttp->datasets) (1.5.0)\n",
            "Requirement already satisfied: multidict<7.0,>=4.5 in /usr/local/lib/python3.11/dist-packages (from aiohttp->datasets) (6.2.0)\n",
            "Requirement already satisfied: propcache>=0.2.0 in /usr/local/lib/python3.11/dist-packages (from aiohttp->datasets) (0.3.0)\n",
            "Requirement already satisfied: yarl<2.0,>=1.17.0 in /usr/local/lib/python3.11/dist-packages (from aiohttp->datasets) (1.18.3)\n",
            "Requirement already satisfied: charset-normalizer<4,>=2 in /usr/local/lib/python3.11/dist-packages (from requests->transformers) (3.4.1)\n",
            "Requirement already satisfied: idna<4,>=2.5 in /usr/local/lib/python3.11/dist-packages (from requests->transformers) (3.10)\n",
            "Requirement already satisfied: urllib3<3,>=1.21.1 in /usr/local/lib/python3.11/dist-packages (from requests->transformers) (2.3.0)\n",
            "Requirement already satisfied: certifi>=2017.4.17 in /usr/local/lib/python3.11/dist-packages (from requests->transformers) (2025.1.31)\n",
            "Requirement already satisfied: MarkupSafe>=2.0 in /usr/local/lib/python3.11/dist-packages (from jinja2->torch) (3.0.2)\n",
            "Requirement already satisfied: python-dateutil>=2.8.2 in /usr/local/lib/python3.11/dist-packages (from pandas->datasets) (2.8.2)\n",
            "Requirement already satisfied: pytz>=2020.1 in /usr/local/lib/python3.11/dist-packages (from pandas->datasets) (2025.1)\n",
            "Requirement already satisfied: tzdata>=2022.7 in /usr/local/lib/python3.11/dist-packages (from pandas->datasets) (2025.1)\n",
            "Requirement already satisfied: six>=1.5 in /usr/local/lib/python3.11/dist-packages (from python-dateutil>=2.8.2->pandas->datasets) (1.17.0)\n"
          ]
        }
      ],
      "source": [
        "pip install transformers datasets torch scikit-learn"
      ]
    },
    {
      "cell_type": "code",
      "execution_count": null,
      "metadata": {
        "colab": {
          "base_uri": "https://localhost:8080/"
        },
        "id": "VjcF3uDkyCM4",
        "outputId": "7a8bb139-11e5-4820-c856-f38365580420"
      },
      "outputs": [
        {
          "name": "stdout",
          "output_type": "stream",
          "text": [
            "Tokenizing training data...\n",
            "Tokenizing testing data...\n",
            "Training set size: 4445\n",
            "Testing set size: 1112\n",
            "Average text length: 316.7876552096455\n",
            "Training label distribution:\n",
            "label\n",
            "0    2276\n",
            "1    2169\n",
            "Name: count, dtype: int64\n",
            "Testing label distribution:\n",
            "label\n",
            "0    563\n",
            "1    549\n",
            "Name: count, dtype: int64\n"
          ]
        }
      ],
      "source": [
        "from sklearn.model_selection import train_test_split\n",
        "from transformers import GPT2Tokenizer, GPTNeoForSequenceClassification, AdamW, get_scheduler\n",
        "import torch\n",
        "from torch.utils.data import DataLoader, TensorDataset\n",
        "from tqdm import tqdm\n",
        "from sklearn.metrics import accuracy_score\n",
        "\n",
        "# Initialize the GPT-Neo tokenizer\n",
        "tokenizer = GPT2Tokenizer.from_pretrained(\"EleutherAI/gpt-neo-125M\", cache_dir=\"./models\")\n",
        "tokenizer.pad_token = tokenizer.eos_token  # Add padding token for GPT models\n",
        "\n",
        "# Select only the required columns\n",
        "X = combined_df['conversation']  # Features\n",
        "y = combined_df['label']         # Target\n",
        "\n",
        "# Split the dataset into training and testing sets with an 80:20 ratio\n",
        "X_train, X_test, y_train, y_test = train_test_split(X, y, test_size=0.2, random_state=42)\n",
        "\n",
        "# Tokenize the text data\n",
        "def tokenize_texts(texts, tokenizer, max_length=256):\n",
        "    return tokenizer(\n",
        "        list(texts),\n",
        "        padding='max_length',\n",
        "        truncation=True,\n",
        "        max_length=max_length,\n",
        "        return_tensors=\"pt\"\n",
        "    )\n",
        "\n",
        "print(\"Tokenizing training data...\")\n",
        "train_encodings = tokenize_texts(X_train, tokenizer)\n",
        "print(\"Tokenizing testing data...\")\n",
        "test_encodings = tokenize_texts(X_test, tokenizer)\n",
        "\n",
        "# Convert labels to torch tensors for binary classification\n",
        "train_labels = torch.tensor(y_train.values, dtype=torch.long)\n",
        "test_labels = torch.tensor(y_test.values, dtype=torch.long)\n",
        "\n",
        "# Print dataset statistics\n",
        "print(f\"Training set size: {len(X_train)}\")\n",
        "print(f\"Testing set size: {len(X_test)}\")\n",
        "avg_length = X.apply(lambda x: len(x.split())).mean()\n",
        "print(f\"Average text length: {avg_length}\")\n",
        "print(f\"Training label distribution:\\n{y_train.value_counts()}\")\n",
        "print(f\"Testing label distribution:\\n{y_test.value_counts()}\")\n",
        "\n",
        "# Convert tokenized inputs into TensorDataset\n",
        "train_dataset = TensorDataset(\n",
        "    train_encodings['input_ids'],\n",
        "    train_encodings['attention_mask'],\n",
        "    train_labels\n",
        ")\n",
        "\n",
        "test_dataset = TensorDataset(\n",
        "    test_encodings['input_ids'],\n",
        "    test_encodings['attention_mask'],\n",
        "    test_labels\n",
        ")"
      ]
    },
    {
      "cell_type": "code",
      "execution_count": 8,
      "metadata": {
        "colab": {
          "base_uri": "https://localhost:8080/"
        },
        "id": "TNq_f9ecyIBD",
        "outputId": "a0b43d5e-fefc-486f-a5f8-8acfe9fe8183"
      },
      "outputs": [
        {
          "name": "stderr",
          "output_type": "stream",
          "text": [
            "Some weights of GPTNeoForSequenceClassification were not initialized from the model checkpoint at EleutherAI/gpt-neo-125M and are newly initialized: ['score.weight']\n",
            "You should probably TRAIN this model on a down-stream task to be able to use it for predictions and inference.\n",
            "/usr/local/lib/python3.11/dist-packages/transformers/optimization.py:640: FutureWarning: This implementation of AdamW is deprecated and will be removed in a future version. Use the PyTorch implementation torch.optim.AdamW instead, or set `no_deprecation_warning=True` to disable this warning\n",
            "  warnings.warn(\n"
          ]
        },
        {
          "name": "stdout",
          "output_type": "stream",
          "text": [
            "\n",
            "Epoch 1/10\n"
          ]
        },
        {
          "name": "stderr",
          "output_type": "stream",
          "text": [
            "Training: 100%|██████████| 278/278 [03:28<00:00,  1.33it/s]\n"
          ]
        },
        {
          "name": "stdout",
          "output_type": "stream",
          "text": [
            "Train Loss: 0.7455, Train Accuracy: 0.7021\n"
          ]
        },
        {
          "name": "stderr",
          "output_type": "stream",
          "text": [
            "Validation: 100%|██████████| 70/70 [00:17<00:00,  3.89it/s]\n"
          ]
        },
        {
          "name": "stdout",
          "output_type": "stream",
          "text": [
            "Validation Loss: 0.2869, Validation Accuracy: 0.8849\n",
            "Model checkpoint saved.\n",
            "\n",
            "Epoch 2/10\n"
          ]
        },
        {
          "name": "stderr",
          "output_type": "stream",
          "text": [
            "Training: 100%|██████████| 278/278 [03:27<00:00,  1.34it/s]\n"
          ]
        },
        {
          "name": "stdout",
          "output_type": "stream",
          "text": [
            "Train Loss: 0.0927, Train Accuracy: 0.9690\n"
          ]
        },
        {
          "name": "stderr",
          "output_type": "stream",
          "text": [
            "Validation: 100%|██████████| 70/70 [00:17<00:00,  3.90it/s]\n"
          ]
        },
        {
          "name": "stdout",
          "output_type": "stream",
          "text": [
            "Validation Loss: 0.0453, Validation Accuracy: 0.9865\n",
            "Model checkpoint saved.\n",
            "\n",
            "Epoch 3/10\n"
          ]
        },
        {
          "name": "stderr",
          "output_type": "stream",
          "text": [
            "Training: 100%|██████████| 278/278 [03:27<00:00,  1.34it/s]\n"
          ]
        },
        {
          "name": "stdout",
          "output_type": "stream",
          "text": [
            "Train Loss: 0.0127, Train Accuracy: 0.9982\n"
          ]
        },
        {
          "name": "stderr",
          "output_type": "stream",
          "text": [
            "Validation: 100%|██████████| 70/70 [00:17<00:00,  3.90it/s]\n"
          ]
        },
        {
          "name": "stdout",
          "output_type": "stream",
          "text": [
            "Validation Loss: 0.0215, Validation Accuracy: 0.9955\n",
            "Model checkpoint saved.\n",
            "\n",
            "Epoch 4/10\n"
          ]
        },
        {
          "name": "stderr",
          "output_type": "stream",
          "text": [
            "Training: 100%|██████████| 278/278 [03:28<00:00,  1.34it/s]\n"
          ]
        },
        {
          "name": "stdout",
          "output_type": "stream",
          "text": [
            "Train Loss: 0.0040, Train Accuracy: 1.0000\n"
          ]
        },
        {
          "name": "stderr",
          "output_type": "stream",
          "text": [
            "Validation: 100%|██████████| 70/70 [00:17<00:00,  3.90it/s]\n"
          ]
        },
        {
          "name": "stdout",
          "output_type": "stream",
          "text": [
            "Validation Loss: 0.0154, Validation Accuracy: 0.9973\n",
            "Model checkpoint saved.\n",
            "\n",
            "Epoch 5/10\n"
          ]
        },
        {
          "name": "stderr",
          "output_type": "stream",
          "text": [
            "Training: 100%|██████████| 278/278 [03:28<00:00,  1.34it/s]\n"
          ]
        },
        {
          "name": "stdout",
          "output_type": "stream",
          "text": [
            "Train Loss: 0.0021, Train Accuracy: 1.0000\n"
          ]
        },
        {
          "name": "stderr",
          "output_type": "stream",
          "text": [
            "Validation: 100%|██████████| 70/70 [00:17<00:00,  3.90it/s]\n"
          ]
        },
        {
          "name": "stdout",
          "output_type": "stream",
          "text": [
            "Validation Loss: 0.0134, Validation Accuracy: 0.9973\n",
            "Model checkpoint saved.\n",
            "\n",
            "Epoch 6/10\n"
          ]
        },
        {
          "name": "stderr",
          "output_type": "stream",
          "text": [
            "Training: 100%|██████████| 278/278 [03:27<00:00,  1.34it/s]\n"
          ]
        },
        {
          "name": "stdout",
          "output_type": "stream",
          "text": [
            "Train Loss: 0.0013, Train Accuracy: 1.0000\n"
          ]
        },
        {
          "name": "stderr",
          "output_type": "stream",
          "text": [
            "Validation: 100%|██████████| 70/70 [00:18<00:00,  3.88it/s]\n"
          ]
        },
        {
          "name": "stdout",
          "output_type": "stream",
          "text": [
            "Validation Loss: 0.0116, Validation Accuracy: 0.9982\n",
            "Model checkpoint saved.\n",
            "\n",
            "Epoch 7/10\n"
          ]
        },
        {
          "name": "stderr",
          "output_type": "stream",
          "text": [
            "Training: 100%|██████████| 278/278 [03:27<00:00,  1.34it/s]\n"
          ]
        },
        {
          "name": "stdout",
          "output_type": "stream",
          "text": [
            "Train Loss: 0.0009, Train Accuracy: 1.0000\n"
          ]
        },
        {
          "name": "stderr",
          "output_type": "stream",
          "text": [
            "Validation: 100%|██████████| 70/70 [00:17<00:00,  3.89it/s]\n"
          ]
        },
        {
          "name": "stdout",
          "output_type": "stream",
          "text": [
            "Validation Loss: 0.0111, Validation Accuracy: 0.9982\n",
            "Model checkpoint saved.\n",
            "\n",
            "Epoch 8/10\n"
          ]
        },
        {
          "name": "stderr",
          "output_type": "stream",
          "text": [
            "Training: 100%|██████████| 278/278 [03:27<00:00,  1.34it/s]\n"
          ]
        },
        {
          "name": "stdout",
          "output_type": "stream",
          "text": [
            "Train Loss: 0.0008, Train Accuracy: 1.0000\n"
          ]
        },
        {
          "name": "stderr",
          "output_type": "stream",
          "text": [
            "Validation: 100%|██████████| 70/70 [00:17<00:00,  3.90it/s]\n"
          ]
        },
        {
          "name": "stdout",
          "output_type": "stream",
          "text": [
            "Validation Loss: 0.0102, Validation Accuracy: 0.9991\n",
            "Model checkpoint saved.\n",
            "\n",
            "Epoch 9/10\n"
          ]
        },
        {
          "name": "stderr",
          "output_type": "stream",
          "text": [
            "Training: 100%|██████████| 278/278 [03:27<00:00,  1.34it/s]\n"
          ]
        },
        {
          "name": "stdout",
          "output_type": "stream",
          "text": [
            "Train Loss: 0.0007, Train Accuracy: 1.0000\n"
          ]
        },
        {
          "name": "stderr",
          "output_type": "stream",
          "text": [
            "Validation: 100%|██████████| 70/70 [00:17<00:00,  3.90it/s]\n"
          ]
        },
        {
          "name": "stdout",
          "output_type": "stream",
          "text": [
            "Validation Loss: 0.0101, Validation Accuracy: 0.9982\n",
            "Model checkpoint saved.\n",
            "\n",
            "Epoch 10/10\n"
          ]
        },
        {
          "name": "stderr",
          "output_type": "stream",
          "text": [
            "Training: 100%|██████████| 278/278 [03:28<00:00,  1.34it/s]\n"
          ]
        },
        {
          "name": "stdout",
          "output_type": "stream",
          "text": [
            "Train Loss: 0.0006, Train Accuracy: 1.0000\n"
          ]
        },
        {
          "name": "stderr",
          "output_type": "stream",
          "text": [
            "Validation: 100%|██████████| 70/70 [00:17<00:00,  3.90it/s]\n"
          ]
        },
        {
          "name": "stdout",
          "output_type": "stream",
          "text": [
            "Validation Loss: 0.0101, Validation Accuracy: 0.9982\n",
            "Model checkpoint saved.\n",
            "Training complete. Best model loaded.\n",
            "\n",
            "Training History:\n",
            "{'train_loss': [0.7454545056219581, 0.0927101362726095, 0.012740600531084945, 0.0040122366912550755, 0.0020555898958813774, 0.001304240346000121, 0.0009466716677340739, 0.0007556530654779217, 0.000652192752169095, 0.000601954108238427], 'val_loss': [0.2868687626506601, 0.0453083715667682, 0.021534201040464853, 0.015392329221607983, 0.01343882585351821, 0.011569692339149437, 0.011119861001290181, 0.010222215097227101, 0.010111572453024565, 0.010059790198803447], 'train_accuracy': [0.7021372328458942, 0.9689538807649044, 0.9982002249718785, 1.0, 1.0, 1.0, 1.0, 1.0, 1.0, 1.0], 'val_accuracy': [0.8848920863309353, 0.9865107913669064, 0.9955035971223022, 0.9973021582733813, 0.9973021582733813, 0.9982014388489209, 0.9982014388489209, 0.9991007194244604, 0.9982014388489209, 0.9982014388489209]}\n"
          ]
        }
      ],
      "source": [
        "# Create DataLoader for batching\n",
        "train_loader = DataLoader(train_dataset, batch_size=16, shuffle=True)\n",
        "test_loader = DataLoader(test_dataset, batch_size=16)\n",
        "\n",
        "# Load GPT-Neo model for binary classification\n",
        "model = GPTNeoForSequenceClassification.from_pretrained(\n",
        "    \"EleutherAI/gpt-neo-125M\",\n",
        "    num_labels=2  # Binary classification\n",
        ")\n",
        "model.config.pad_token_id = tokenizer.eos_token_id\n",
        "model.to(torch.device(\"cuda\" if torch.cuda.is_available() else \"cpu\"))\n",
        "\n",
        "# Define optimizer\n",
        "optimizer = AdamW(model.parameters(), lr=1e-5)\n",
        "\n",
        "# Training configurations\n",
        "epochs = 10\n",
        "num_training_steps = len(train_loader) * epochs\n",
        "num_warmup_steps = int(0.1 * num_training_steps)\n",
        "\n",
        "# Define learning rate scheduler\n",
        "scheduler = get_scheduler(\n",
        "    name=\"linear\",\n",
        "    optimizer=optimizer,\n",
        "    num_warmup_steps=num_warmup_steps,\n",
        "    num_training_steps=num_training_steps\n",
        ")\n",
        "\n",
        "# Training and validation loop\n",
        "history = {\"train_loss\": [], \"val_loss\": [], \"train_accuracy\": [], \"val_accuracy\": []}\n",
        "best_val_loss = float(\"inf\")\n",
        "early_stopping_patience = 3\n",
        "no_improvement_epochs = 0\n",
        "model_checkpoint_path = \"best_gpt_neo_model.pt\"\n",
        "\n",
        "device = torch.device(\"cuda\" if torch.cuda.is_available() else \"cpu\")\n",
        "\n",
        "for epoch in range(epochs):\n",
        "    print(f\"\\nEpoch {epoch + 1}/{epochs}\")\n",
        "\n",
        "    # Training\n",
        "    model.train()\n",
        "    train_loss = 0\n",
        "    train_correct = 0\n",
        "    train_total = 0\n",
        "\n",
        "    for batch in tqdm(train_loader, desc=\"Training\"):\n",
        "        input_ids, attention_mask, labels = [b.to(device) for b in batch]\n",
        "        outputs = model(input_ids=input_ids, attention_mask=attention_mask, labels=labels)\n",
        "\n",
        "        loss = outputs.loss\n",
        "        train_loss += loss.item()\n",
        "        logits = outputs.logits\n",
        "        preds = torch.argmax(logits, dim=-1)\n",
        "        train_correct += (preds == labels).sum().item()\n",
        "        train_total += labels.size(0)\n",
        "\n",
        "        loss.backward()\n",
        "        optimizer.step()\n",
        "        scheduler.step()\n",
        "        optimizer.zero_grad()\n",
        "\n",
        "    train_loss /= len(train_loader)\n",
        "    train_accuracy = train_correct / train_total\n",
        "    history[\"train_loss\"].append(train_loss)\n",
        "    history[\"train_accuracy\"].append(train_accuracy)\n",
        "    print(f\"Train Loss: {train_loss:.4f}, Train Accuracy: {train_accuracy:.4f}\")\n",
        "\n",
        "    # Validation\n",
        "    model.eval()\n",
        "    val_loss = 0\n",
        "    val_correct = 0\n",
        "    val_total = 0\n",
        "\n",
        "    with torch.no_grad():\n",
        "        for batch in tqdm(test_loader, desc=\"Validation\"):\n",
        "            input_ids, attention_mask, labels = [b.to(device) for b in batch]\n",
        "            outputs = model(input_ids=input_ids, attention_mask=attention_mask, labels=labels)\n",
        "\n",
        "            val_loss += outputs.loss.item()\n",
        "            logits = outputs.logits\n",
        "            preds = torch.argmax(logits, dim=-1)\n",
        "            val_correct += (preds == labels).sum().item()\n",
        "            val_total += labels.size(0)\n",
        "\n",
        "    val_loss /= len(test_loader)\n",
        "    val_accuracy = val_correct / val_total\n",
        "    history[\"val_loss\"].append(val_loss)\n",
        "    history[\"val_accuracy\"].append(val_accuracy)\n",
        "    print(f\"Validation Loss: {val_loss:.4f}, Validation Accuracy: {val_accuracy:.4f}\")\n",
        "\n",
        "    # Early stopping and checkpoint\n",
        "    if val_loss < best_val_loss:\n",
        "        best_val_loss = val_loss\n",
        "        no_improvement_epochs = 0\n",
        "        torch.save(model.state_dict(), model_checkpoint_path)\n",
        "        print(\"Model checkpoint saved.\")\n",
        "    else:\n",
        "        no_improvement_epochs += 1\n",
        "\n",
        "    if no_improvement_epochs >= early_stopping_patience:\n",
        "        print(\"Early stopping triggered.\")\n",
        "        break\n",
        "\n",
        "model.save_pretrained(\"best_gpt_neo\")\n",
        "tokenizer.save_pretrained(\"best_gpt_neo\")\n",
        "\n",
        "# Load the best model before evaluation\n",
        "model.load_state_dict(torch.load(model_checkpoint_path))\n",
        "print(\"Training complete. Best model loaded.\")\n",
        "\n",
        "# Display training history\n",
        "print(\"\\nTraining History:\")\n",
        "print(history)"
      ]
    },
    {
      "cell_type": "markdown",
      "metadata": {
        "id": "yPUI-NTQW_br"
      },
      "source": [
        "# Model Architecture"
      ]
    },
    {
      "cell_type": "code",
      "execution_count": 9,
      "metadata": {
        "colab": {
          "base_uri": "https://localhost:8080/"
        },
        "id": "iWvpNh47W_NK",
        "outputId": "67bdd767-f5d5-47b6-8ddf-e76f18eb2077"
      },
      "outputs": [
        {
          "name": "stdout",
          "output_type": "stream",
          "text": [
            "GPTNeoForSequenceClassification(\n",
            "  (transformer): GPTNeoModel(\n",
            "    (wte): Embedding(50257, 768)\n",
            "    (wpe): Embedding(2048, 768)\n",
            "    (drop): Dropout(p=0.0, inplace=False)\n",
            "    (h): ModuleList(\n",
            "      (0-11): 12 x GPTNeoBlock(\n",
            "        (ln_1): LayerNorm((768,), eps=1e-05, elementwise_affine=True)\n",
            "        (attn): GPTNeoAttention(\n",
            "          (attention): GPTNeoSelfAttention(\n",
            "            (attn_dropout): Dropout(p=0.0, inplace=False)\n",
            "            (resid_dropout): Dropout(p=0.0, inplace=False)\n",
            "            (k_proj): Linear(in_features=768, out_features=768, bias=False)\n",
            "            (v_proj): Linear(in_features=768, out_features=768, bias=False)\n",
            "            (q_proj): Linear(in_features=768, out_features=768, bias=False)\n",
            "            (out_proj): Linear(in_features=768, out_features=768, bias=True)\n",
            "          )\n",
            "        )\n",
            "        (ln_2): LayerNorm((768,), eps=1e-05, elementwise_affine=True)\n",
            "        (mlp): GPTNeoMLP(\n",
            "          (c_fc): Linear(in_features=768, out_features=3072, bias=True)\n",
            "          (c_proj): Linear(in_features=3072, out_features=768, bias=True)\n",
            "          (act): NewGELUActivation()\n",
            "          (dropout): Dropout(p=0.0, inplace=False)\n",
            "        )\n",
            "      )\n",
            "    )\n",
            "    (ln_f): LayerNorm((768,), eps=1e-05, elementwise_affine=True)\n",
            "  )\n",
            "  (score): Linear(in_features=768, out_features=2, bias=False)\n",
            ")\n"
          ]
        }
      ],
      "source": [
        "print(model)"
      ]
    },
    {
      "cell_type": "markdown",
      "metadata": {
        "id": "l7Pf011l-xyh"
      },
      "source": [
        "# Plotting the Learning Curve of the Model"
      ]
    },
    {
      "cell_type": "code",
      "execution_count": 10,
      "metadata": {
        "colab": {
          "base_uri": "https://localhost:8080/",
          "height": 472
        },
        "id": "s9BwBMXFZUUO",
        "outputId": "33e784a0-2648-4522-dfd3-c7b42b187a2c"
      },
      "outputs": [
        {
          "data": {
            "image/png": "[encoded data removed]",
            "text/plain": [
              "<Figure size 640x480 with 1 Axes>"
            ]
          },
          "metadata": {},
          "output_type": "display_data"
        }
      ],
      "source": [
        "import matplotlib.pyplot as plt\n",
        "\n",
        "# Plot Accuracy\n",
        "plt.plot(history['train_accuracy'], label='Train Accuracy')\n",
        "plt.plot(history['val_accuracy'], label='Validation Accuracy')\n",
        "\n",
        "# Plot Loss\n",
        "plt.plot(history['train_loss'], label='Train Loss')\n",
        "plt.plot(history['val_loss'], label='Validation Loss')\n",
        "\n",
        "# Add title and labels\n",
        "plt.title('Model Accuracy and Loss')\n",
        "plt.ylabel('Accuracy / Loss')\n",
        "plt.xlabel('Epoch')\n",
        "\n",
        "# Add legend\n",
        "plt.legend(loc='upper left')\n",
        "\n",
        "# Show the plot\n",
        "plt.grid(True)  # Optional for better readability\n",
        "plt.show()"
      ]
    },
    {
      "cell_type": "markdown",
      "metadata": {
        "id": "mKe1cJEjaD3V"
      },
      "source": [
        "# Precision, Recall, F1-Score\n"
      ]
    },
    {
      "cell_type": "code",
      "execution_count": 11,
      "metadata": {
        "colab": {
          "base_uri": "https://localhost:8080/"
        },
        "id": "OIlQy71N8H8Y",
        "outputId": "ec964d39-9904-4f7d-8690-4d422986fe42"
      },
      "outputs": [
        {
          "name": "stdout",
          "output_type": "stream",
          "text": [
            "              precision    recall  f1-score   support\n",
            "\n",
            "         0.0       1.00      1.00      1.00       563\n",
            "         1.0       1.00      1.00      1.00       549\n",
            "\n",
            "    accuracy                           1.00      1112\n",
            "   macro avg       1.00      1.00      1.00      1112\n",
            "weighted avg       1.00      1.00      1.00      1112\n",
            "\n"
          ]
        }
      ],
      "source": [
        "from sklearn.metrics import classification_report\n",
        "\n",
        "# Ensure model is in evaluation mode\n",
        "model.eval()\n",
        "\n",
        "# Prepare the test data\n",
        "test_encodings = tokenize_texts(X_test, tokenizer)\n",
        "test_dataset = TensorDataset(\n",
        "    test_encodings['input_ids'],\n",
        "    test_encodings['attention_mask'],\n",
        "    torch.tensor(y_test.values, dtype=torch.float32)  # Make sure labels are tensors\n",
        ")\n",
        "\n",
        "# DataLoader for test data\n",
        "test_loader = DataLoader(test_dataset, batch_size=16)\n",
        "\n",
        "# Initialize lists to store true labels and predictions\n",
        "true_labels = []\n",
        "predictions = []\n",
        "\n",
        "# No gradients needed for inference\n",
        "with torch.no_grad():\n",
        "    for batch in test_loader:\n",
        "        input_ids, attention_mask, labels = [b.to(device) for b in batch]\n",
        "\n",
        "        # Forward pass\n",
        "        outputs = model(input_ids=input_ids, attention_mask=attention_mask)\n",
        "        logits = outputs.logits.squeeze(-1)  # Adjust for binary classification\n",
        "\n",
        "        # Convert logits to probabilities\n",
        "        probs = torch.sigmoid(logits)\n",
        "        preds = (probs > 0.5).long()  # Convert probabilities to binary labels\n",
        "\n",
        "        # Modify how predictions are extracted from the logits\n",
        "        preds = torch.argmax(probs, dim=-1)  # Get the class with the highest probability\n",
        "\n",
        "        # Store true labels and predictions\n",
        "        true_labels.extend(labels.cpu().numpy())\n",
        "        predictions.extend(preds.cpu().numpy())\n",
        "\n",
        "# Generate classification report\n",
        "print(classification_report(true_labels, predictions))"
      ]
    },
    {
      "cell_type": "markdown",
      "metadata": {
        "id": "L8DglI4qegu5"
      },
      "source": [
        "# Confusion Matrix"
      ]
    },
    {
      "cell_type": "code",
      "execution_count": 12,
      "metadata": {
        "colab": {
          "base_uri": "https://localhost:8080/",
          "height": 1000
        },
        "id": "pZ-FD_EBeaiC",
        "outputId": "71308aa9-2f4e-4a5e-a14d-bf02788c12ed"
      },
      "outputs": [
        {
          "data": {
            "image/png": "[encoded data removed]",
            "text/plain": [
              "<Figure size 1000x800 with 2 Axes>"
            ]
          },
          "metadata": {},
          "output_type": "display_data"
        },
        {
          "data": {
            "image/png": "[encoded data removed]",
            "text/plain": [
              "<Figure size 1000x800 with 2 Axes>"
            ]
          },
          "metadata": {},
          "output_type": "display_data"
        },
        {
          "name": "stdout",
          "output_type": "stream",
          "text": [
            "DSC: 0.9982012293756066, Sensitivity: 0.9982238010657194, Specificity: 0.9982238010657194, Accuracy: 0.9982014388489209\n"
          ]
        }
      ],
      "source": [
        "import numpy as np\n",
        "import matplotlib.pyplot as plt\n",
        "import seaborn as sns\n",
        "from sklearn.metrics import confusion_matrix, accuracy_score\n",
        "import torch\n",
        "\n",
        "def calculate_metrics(y_true, y_pred, classes=['Normal', 'Fraud']):\n",
        "    \"\"\"\n",
        "    Calculate and display various evaluation metrics based on true and predicted labels.\n",
        "\n",
        "    Parameters:\n",
        "    - y_true: Array of true labels.\n",
        "    - y_pred: Array of predicted labels.\n",
        "    - classes: List of class labels (default: ['Normal', 'Fraud']).\n",
        "\n",
        "    Returns:\n",
        "    - dsc: Dice similarity coefficient (mean across classes).\n",
        "    - sensitivity: Mean sensitivity across classes.\n",
        "    - specificity: Mean specificity across classes.\n",
        "    - accuracy: Overall accuracy.\n",
        "    \"\"\"\n",
        "    # Compute the confusion matrix\n",
        "    cm = confusion_matrix(y_true, y_pred)\n",
        "\n",
        "    # Plot the confusion matrix\n",
        "    plt.figure(figsize=(10, 8))\n",
        "    sns.heatmap(cm, annot=True, fmt='g', cmap='Blues', xticklabels=classes, yticklabels=classes)\n",
        "    plt.xlabel('Predicted Values')\n",
        "    plt.ylabel('True Values')\n",
        "    plt.title('Confusion Matrix')\n",
        "    plt.show()\n",
        "\n",
        "    # Normalize the confusion matrix by row (true labels)\n",
        "    cm_normalized = cm.astype('float') / cm.sum(axis=1)[:, np.newaxis]\n",
        "\n",
        "    # Plot the normalized confusion matrix\n",
        "    plt.figure(figsize=(10, 8))\n",
        "    sns.heatmap(cm_normalized, annot=True, fmt='.2f', cmap='Blues', xticklabels=classes, yticklabels=classes)\n",
        "    plt.xlabel('Predicted Values')\n",
        "    plt.ylabel('True Values')\n",
        "    plt.title('Normalized Confusion Matrix')\n",
        "    plt.show()\n",
        "\n",
        "    # Calculate the Dice similarity coefficient (DSC) for each class and average them\n",
        "    dsc = np.mean([2.0 * cm[i, i] / (np.sum(cm[i, :]) + np.sum(cm[:, i])) for i in range(cm.shape[0])])\n",
        "\n",
        "    # Calculate the sensitivity (recall) for each class and average them\n",
        "    sensitivity = np.mean([cm[i, i] / np.sum(cm[i, :]) for i in range(cm.shape[0])])\n",
        "\n",
        "    # Calculate the specificity for each class and average them\n",
        "    specificity = np.mean([np.sum(np.delete(np.delete(cm, j, 0), j, 1)) / np.sum(np.delete(cm, j, 0)) for j in range(cm.shape[0])])\n",
        "\n",
        "    # Calculate the overall accuracy\n",
        "    accuracy = accuracy_score(y_true, y_pred)\n",
        "\n",
        "    # Print the evaluation metrics\n",
        "    print(f\"DSC: {dsc}, Sensitivity: {sensitivity}, Specificity: {specificity}, Accuracy: {accuracy}\")\n",
        "\n",
        "    return dsc, sensitivity, specificity, accuracy\n",
        "\n",
        "# Make sure model is in evaluation mode\n",
        "model.eval()\n",
        "\n",
        "# Prepare the test data (tokenized input data for PyTorch)\n",
        "test_encodings = tokenize_texts(X_test, tokenizer)\n",
        "test_dataset = TensorDataset(\n",
        "    test_encodings['input_ids'],\n",
        "    test_encodings['attention_mask'],\n",
        "    torch.tensor(y_test.values, dtype=torch.float32)  # Ensure labels are tensors\n",
        ")\n",
        "\n",
        "# DataLoader for test data\n",
        "test_loader = DataLoader(test_dataset, batch_size=16)\n",
        "\n",
        "# Initialize lists to store true labels and predictions\n",
        "true_labels = []\n",
        "predictions = []\n",
        "\n",
        "# No gradients needed for inference\n",
        "with torch.no_grad():\n",
        "    for batch in test_loader:\n",
        "        input_ids, attention_mask, labels = [b.to(device) for b in batch]\n",
        "\n",
        "        # Forward pass\n",
        "        outputs = model(input_ids=input_ids, attention_mask=attention_mask)\n",
        "        logits = outputs.logits.squeeze(-1)\n",
        "\n",
        "        # Get the predicted probabilities\n",
        "        probs = torch.sigmoid(logits)\n",
        "        preds = (probs > 0.5).long()  # Use thresholding to get the predicted labels (0 or 1)\n",
        "\n",
        "        # Modify how predictions are extracted from the logits\n",
        "        preds = torch.argmax(probs, dim=-1)  # Get the class with the highest probability\n",
        "\n",
        "        # Append true labels and predicted labels\n",
        "        true_labels.extend(labels.cpu().numpy())  # Move labels back to CPU for numpy operations\n",
        "        predictions.extend(preds.cpu().numpy())   # Move predictions back to CPU for numpy operations\n",
        "\n",
        "# Calculate metrics\n",
        "dsc, sensitivity, specificity, accuracy = calculate_metrics(true_labels, predictions)"
      ]
    },
    {
      "cell_type": "markdown",
      "metadata": {
        "id": "bOvbqkMnIN4y"
      },
      "source": [
        "# K-Folds Cross Validation"
      ]
    },
    {
      "cell_type": "code",
      "execution_count": 13,
      "metadata": {
        "colab": {
          "base_uri": "https://localhost:8080/"
        },
        "id": "XdVuYoeVINr0",
        "outputId": "ddca0eba-e341-4b8c-937e-fa232f738493"
      },
      "outputs": [
        {
          "name": "stdout",
          "output_type": "stream",
          "text": [
            "\n",
            "Fold 1/5\n"
          ]
        },
        {
          "name": "stderr",
          "output_type": "stream",
          "text": [
            "Some weights of GPTNeoForSequenceClassification were not initialized from the model checkpoint at EleutherAI/gpt-neo-125M and are newly initialized: ['score.weight']\n",
            "You should probably TRAIN this model on a down-stream task to be able to use it for predictions and inference.\n",
            "/usr/local/lib/python3.11/dist-packages/transformers/optimization.py:640: FutureWarning: This implementation of AdamW is deprecated and will be removed in a future version. Use the PyTorch implementation torch.optim.AdamW instead, or set `no_deprecation_warning=True` to disable this warning\n",
            "  warnings.warn(\n",
            "Epoch 1: 100%|██████████| 278/278 [03:28<00:00,  1.33it/s]\n"
          ]
        },
        {
          "name": "stdout",
          "output_type": "stream",
          "text": [
            "Training Loss: 0.4640, Accuracy: 0.7894\n"
          ]
        },
        {
          "name": "stderr",
          "output_type": "stream",
          "text": [
            "Epoch 2: 100%|██████████| 278/278 [03:27<00:00,  1.34it/s]\n"
          ]
        },
        {
          "name": "stdout",
          "output_type": "stream",
          "text": [
            "Training Loss: 0.0287, Accuracy: 0.9933\n"
          ]
        },
        {
          "name": "stderr",
          "output_type": "stream",
          "text": [
            "Epoch 3: 100%|██████████| 278/278 [03:28<00:00,  1.34it/s]\n"
          ]
        },
        {
          "name": "stdout",
          "output_type": "stream",
          "text": [
            "Training Loss: 0.0044, Accuracy: 0.9998\n"
          ]
        },
        {
          "name": "stderr",
          "output_type": "stream",
          "text": [
            "Epoch 4: 100%|██████████| 278/278 [03:28<00:00,  1.34it/s]\n"
          ]
        },
        {
          "name": "stdout",
          "output_type": "stream",
          "text": [
            "Training Loss: 0.0020, Accuracy: 1.0000\n"
          ]
        },
        {
          "name": "stderr",
          "output_type": "stream",
          "text": [
            "Epoch 5: 100%|██████████| 278/278 [03:27<00:00,  1.34it/s]\n"
          ]
        },
        {
          "name": "stdout",
          "output_type": "stream",
          "text": [
            "Training Loss: 0.0014, Accuracy: 1.0000\n",
            "Validation Accuracy: 0.9982, Loss: 0.0039\n",
            "\n",
            "Fold 2/5\n"
          ]
        },
        {
          "name": "stderr",
          "output_type": "stream",
          "text": [
            "Some weights of GPTNeoForSequenceClassification were not initialized from the model checkpoint at EleutherAI/gpt-neo-125M and are newly initialized: ['score.weight']\n",
            "You should probably TRAIN this model on a down-stream task to be able to use it for predictions and inference.\n",
            "Epoch 1: 100%|██████████| 278/278 [03:28<00:00,  1.33it/s]\n"
          ]
        },
        {
          "name": "stdout",
          "output_type": "stream",
          "text": [
            "Training Loss: 0.5273, Accuracy: 0.7667\n"
          ]
        },
        {
          "name": "stderr",
          "output_type": "stream",
          "text": [
            "Epoch 2: 100%|██████████| 278/278 [03:27<00:00,  1.34it/s]\n"
          ]
        },
        {
          "name": "stdout",
          "output_type": "stream",
          "text": [
            "Training Loss: 0.0256, Accuracy: 0.9948\n"
          ]
        },
        {
          "name": "stderr",
          "output_type": "stream",
          "text": [
            "Epoch 3: 100%|██████████| 278/278 [03:27<00:00,  1.34it/s]\n"
          ]
        },
        {
          "name": "stdout",
          "output_type": "stream",
          "text": [
            "Training Loss: 0.0048, Accuracy: 0.9993\n"
          ]
        },
        {
          "name": "stderr",
          "output_type": "stream",
          "text": [
            "Epoch 4: 100%|██████████| 278/278 [03:27<00:00,  1.34it/s]\n"
          ]
        },
        {
          "name": "stdout",
          "output_type": "stream",
          "text": [
            "Training Loss: 0.0021, Accuracy: 0.9998\n"
          ]
        },
        {
          "name": "stderr",
          "output_type": "stream",
          "text": [
            "Epoch 5: 100%|██████████| 278/278 [03:27<00:00,  1.34it/s]\n"
          ]
        },
        {
          "name": "stdout",
          "output_type": "stream",
          "text": [
            "Training Loss: 0.0014, Accuracy: 1.0000\n",
            "Validation Accuracy: 1.0000, Loss: 0.0027\n",
            "\n",
            "Fold 3/5\n"
          ]
        },
        {
          "name": "stderr",
          "output_type": "stream",
          "text": [
            "Some weights of GPTNeoForSequenceClassification were not initialized from the model checkpoint at EleutherAI/gpt-neo-125M and are newly initialized: ['score.weight']\n",
            "You should probably TRAIN this model on a down-stream task to be able to use it for predictions and inference.\n",
            "Epoch 1: 100%|██████████| 278/278 [03:28<00:00,  1.33it/s]\n"
          ]
        },
        {
          "name": "stdout",
          "output_type": "stream",
          "text": [
            "Training Loss: 0.3433, Accuracy: 0.8462\n"
          ]
        },
        {
          "name": "stderr",
          "output_type": "stream",
          "text": [
            "Epoch 2: 100%|██████████| 278/278 [03:27<00:00,  1.34it/s]\n"
          ]
        },
        {
          "name": "stdout",
          "output_type": "stream",
          "text": [
            "Training Loss: 0.0219, Accuracy: 0.9951\n"
          ]
        },
        {
          "name": "stderr",
          "output_type": "stream",
          "text": [
            "Epoch 3: 100%|██████████| 278/278 [03:27<00:00,  1.34it/s]\n"
          ]
        },
        {
          "name": "stdout",
          "output_type": "stream",
          "text": [
            "Training Loss: 0.0040, Accuracy: 0.9998\n"
          ]
        },
        {
          "name": "stderr",
          "output_type": "stream",
          "text": [
            "Epoch 4: 100%|██████████| 278/278 [03:27<00:00,  1.34it/s]\n"
          ]
        },
        {
          "name": "stdout",
          "output_type": "stream",
          "text": [
            "Training Loss: 0.0019, Accuracy: 1.0000\n"
          ]
        },
        {
          "name": "stderr",
          "output_type": "stream",
          "text": [
            "Epoch 5: 100%|██████████| 278/278 [03:27<00:00,  1.34it/s]\n"
          ]
        },
        {
          "name": "stdout",
          "output_type": "stream",
          "text": [
            "Training Loss: 0.0013, Accuracy: 1.0000\n",
            "Validation Accuracy: 1.0000, Loss: 0.0030\n",
            "\n",
            "Fold 4/5\n"
          ]
        },
        {
          "name": "stderr",
          "output_type": "stream",
          "text": [
            "Some weights of GPTNeoForSequenceClassification were not initialized from the model checkpoint at EleutherAI/gpt-neo-125M and are newly initialized: ['score.weight']\n",
            "You should probably TRAIN this model on a down-stream task to be able to use it for predictions and inference.\n",
            "Epoch 1: 100%|██████████| 278/278 [03:28<00:00,  1.33it/s]\n"
          ]
        },
        {
          "name": "stdout",
          "output_type": "stream",
          "text": [
            "Training Loss: 0.5109, Accuracy: 0.7623\n"
          ]
        },
        {
          "name": "stderr",
          "output_type": "stream",
          "text": [
            "Epoch 2: 100%|██████████| 278/278 [03:27<00:00,  1.34it/s]\n"
          ]
        },
        {
          "name": "stdout",
          "output_type": "stream",
          "text": [
            "Training Loss: 0.0246, Accuracy: 0.9948\n"
          ]
        },
        {
          "name": "stderr",
          "output_type": "stream",
          "text": [
            "Epoch 3: 100%|██████████| 278/278 [03:27<00:00,  1.34it/s]\n"
          ]
        },
        {
          "name": "stdout",
          "output_type": "stream",
          "text": [
            "Training Loss: 0.0049, Accuracy: 0.9998\n"
          ]
        },
        {
          "name": "stderr",
          "output_type": "stream",
          "text": [
            "Epoch 4: 100%|██████████| 278/278 [03:27<00:00,  1.34it/s]\n"
          ]
        },
        {
          "name": "stdout",
          "output_type": "stream",
          "text": [
            "Training Loss: 0.0024, Accuracy: 1.0000\n"
          ]
        },
        {
          "name": "stderr",
          "output_type": "stream",
          "text": [
            "Epoch 5: 100%|██████████| 278/278 [03:27<00:00,  1.34it/s]\n"
          ]
        },
        {
          "name": "stdout",
          "output_type": "stream",
          "text": [
            "Training Loss: 0.0018, Accuracy: 1.0000\n",
            "Validation Accuracy: 0.9964, Loss: 0.0065\n",
            "\n",
            "Fold 5/5\n"
          ]
        },
        {
          "name": "stderr",
          "output_type": "stream",
          "text": [
            "Some weights of GPTNeoForSequenceClassification were not initialized from the model checkpoint at EleutherAI/gpt-neo-125M and are newly initialized: ['score.weight']\n",
            "You should probably TRAIN this model on a down-stream task to be able to use it for predictions and inference.\n",
            "Epoch 1: 100%|██████████| 278/278 [03:28<00:00,  1.33it/s]\n"
          ]
        },
        {
          "name": "stdout",
          "output_type": "stream",
          "text": [
            "Training Loss: 0.6481, Accuracy: 0.7580\n"
          ]
        },
        {
          "name": "stderr",
          "output_type": "stream",
          "text": [
            "Epoch 2: 100%|██████████| 278/278 [03:27<00:00,  1.34it/s]\n"
          ]
        },
        {
          "name": "stdout",
          "output_type": "stream",
          "text": [
            "Training Loss: 0.0386, Accuracy: 0.9908\n"
          ]
        },
        {
          "name": "stderr",
          "output_type": "stream",
          "text": [
            "Epoch 3: 100%|██████████| 278/278 [03:27<00:00,  1.34it/s]\n"
          ]
        },
        {
          "name": "stdout",
          "output_type": "stream",
          "text": [
            "Training Loss: 0.0080, Accuracy: 0.9991\n"
          ]
        },
        {
          "name": "stderr",
          "output_type": "stream",
          "text": [
            "Epoch 4: 100%|██████████| 278/278 [03:27<00:00,  1.34it/s]\n"
          ]
        },
        {
          "name": "stdout",
          "output_type": "stream",
          "text": [
            "Training Loss: 0.0034, Accuracy: 1.0000\n"
          ]
        },
        {
          "name": "stderr",
          "output_type": "stream",
          "text": [
            "Epoch 5: 100%|██████████| 278/278 [03:27<00:00,  1.34it/s]\n"
          ]
        },
        {
          "name": "stdout",
          "output_type": "stream",
          "text": [
            "Training Loss: 0.0024, Accuracy: 1.0000\n",
            "Validation Accuracy: 0.9991, Loss: 0.0060\n",
            "\n",
            "Final Results:\n",
            "Validation Accuracy: 0.9987 ± 0.0013\n",
            "Validation Loss: 0.0044 ± 0.0016\n"
          ]
        }
      ],
      "source": [
        "import numpy as np\n",
        "import torch\n",
        "from sklearn.model_selection import KFold\n",
        "from transformers import GPT2Tokenizer, GPTNeoForSequenceClassification, AdamW, get_scheduler\n",
        "from torch.utils.data import DataLoader, TensorDataset\n",
        "from tqdm import tqdm\n",
        "\n",
        "# Set parameters\n",
        "k_folds = 5\n",
        "batch_size = 16\n",
        "epochs = 5\n",
        "learning_rate = 1e-5\n",
        "\n",
        "# Initialize tokenizer\n",
        "tokenizer = GPT2Tokenizer.from_pretrained(\"EleutherAI/gpt-neo-125M\", cache_dir=\"./models\")\n",
        "tokenizer.pad_token = tokenizer.eos_token  # Add padding token for GPT models\n",
        "\n",
        "# Tokenization function\n",
        "def tokenize_texts(texts, tokenizer, max_length=256):\n",
        "    return tokenizer(\n",
        "        list(texts),\n",
        "        padding='max_length',\n",
        "        truncation=True,\n",
        "        max_length=max_length,\n",
        "        return_tensors=\"pt\"\n",
        "    )\n",
        "\n",
        "# Prepare your data\n",
        "kf = KFold(n_splits=k_folds, shuffle=True, random_state=42)\n",
        "\n",
        "# Initialize lists to store metrics for each fold\n",
        "fold_accuracies = []\n",
        "fold_losses = []\n",
        "\n",
        "device = torch.device(\"cuda\" if torch.cuda.is_available() else \"cpu\")\n",
        "\n",
        "# Iterate over each fold\n",
        "for fold, (train_idx, val_idx) in enumerate(kf.split(X)):\n",
        "    print(f'\\nFold {fold + 1}/{k_folds}')\n",
        "\n",
        "    # Split data\n",
        "    X_train_fold, X_val_fold = X.iloc[train_idx], X.iloc[val_idx]\n",
        "    y_train_fold, y_val_fold = y.iloc[train_idx], y.iloc[val_idx]\n",
        "\n",
        "    # Tokenize data\n",
        "    train_encodings = tokenize_texts(X_train_fold, tokenizer)\n",
        "    val_encodings = tokenize_texts(X_val_fold, tokenizer)\n",
        "\n",
        "    train_labels = torch.tensor(y_train_fold.values, dtype=torch.long)\n",
        "    val_labels = torch.tensor(y_val_fold.values, dtype=torch.long)\n",
        "\n",
        "    # Create datasets and dataloaders\n",
        "    train_dataset = TensorDataset(train_encodings['input_ids'], train_encodings['attention_mask'], train_labels)\n",
        "    val_dataset = TensorDataset(val_encodings['input_ids'], val_encodings['attention_mask'], val_labels)\n",
        "\n",
        "    train_loader = DataLoader(train_dataset, batch_size=batch_size, shuffle=True)\n",
        "    val_loader = DataLoader(val_dataset, batch_size=batch_size)\n",
        "\n",
        "    # Initialize model for this fold\n",
        "    model = GPTNeoForSequenceClassification.from_pretrained(\n",
        "        \"EleutherAI/gpt-neo-125M\", num_labels=2\n",
        "    )\n",
        "    model.config.pad_token_id = tokenizer.eos_token_id\n",
        "    model.to(device)\n",
        "\n",
        "    # Define optimizer and scheduler\n",
        "    optimizer = AdamW(model.parameters(), lr=learning_rate)\n",
        "    num_training_steps = len(train_loader) * epochs\n",
        "    scheduler = get_scheduler(\"linear\", optimizer=optimizer, num_warmup_steps=int(0.1 * num_training_steps), num_training_steps=num_training_steps)\n",
        "\n",
        "    # Training loop\n",
        "    for epoch in range(epochs):\n",
        "        model.train()\n",
        "        train_loss, train_correct, train_total = 0, 0, 0\n",
        "\n",
        "        for batch in tqdm(train_loader, desc=f\"Epoch {epoch + 1}\"):\n",
        "            input_ids, attention_mask, labels = [b.to(device) for b in batch]\n",
        "            outputs = model(input_ids=input_ids, attention_mask=attention_mask, labels=labels)\n",
        "\n",
        "            loss = outputs.loss\n",
        "            train_loss += loss.item()\n",
        "            logits = outputs.logits\n",
        "            preds = torch.argmax(logits, dim=-1)\n",
        "            train_correct += (preds == labels).sum().item()\n",
        "            train_total += labels.size(0)\n",
        "\n",
        "            loss.backward()\n",
        "            optimizer.step()\n",
        "            scheduler.step()\n",
        "            optimizer.zero_grad()\n",
        "\n",
        "        train_accuracy = train_correct / train_total\n",
        "        print(f\"Training Loss: {train_loss / len(train_loader):.4f}, Accuracy: {train_accuracy:.4f}\")\n",
        "\n",
        "    # Validation loop\n",
        "    model.eval()\n",
        "    val_loss, val_correct, val_total = 0, 0, 0\n",
        "\n",
        "    with torch.no_grad():\n",
        "        for batch in val_loader:\n",
        "            input_ids, attention_mask, labels = [b.to(device) for b in batch]\n",
        "            outputs = model(input_ids=input_ids, attention_mask=attention_mask, labels=labels)\n",
        "\n",
        "            val_loss += outputs.loss.item()\n",
        "            logits = outputs.logits\n",
        "            preds = torch.argmax(logits, dim=-1)\n",
        "            val_correct += (preds == labels).sum().item()\n",
        "            val_total += labels.size(0)\n",
        "\n",
        "    val_accuracy = val_correct / val_total\n",
        "    fold_accuracies.append(val_accuracy)\n",
        "    fold_losses.append(val_loss / len(val_loader))\n",
        "    print(f\"Validation Accuracy: {val_accuracy:.4f}, Loss: {val_loss / len(val_loader):.4f}\")\n",
        "\n",
        "# Calculate mean and standard deviation of accuracies and losses\n",
        "mean_accuracy = np.mean(fold_accuracies)\n",
        "std_accuracy = np.std(fold_accuracies)\n",
        "mean_loss = np.mean(fold_losses)\n",
        "std_loss = np.std(fold_losses)\n",
        "\n",
        "print(f'\\nFinal Results:')\n",
        "print(f'Validation Accuracy: {mean_accuracy:.4f} ± {std_accuracy:.4f}')\n",
        "print(f'Validation Loss: {mean_loss:.4f} ± {std_loss:.4f}')\n"
      ]
    },
    {
      "cell_type": "markdown",
      "metadata": {
        "id": "R2Vk6PhpIpai"
      },
      "source": [
        "# Plotting the K-folds"
      ]
    },
    {
      "cell_type": "code",
      "execution_count": 14,
      "metadata": {
        "colab": {
          "base_uri": "https://localhost:8080/",
          "height": 448
        },
        "id": "-1chtc7rIpQJ",
        "outputId": "db7fb68a-abd6-4e88-d366-bba936a47258"
      },
      "outputs": [
        {
          "name": "stdout",
          "output_type": "stream",
          "text": [
            "Folds: 5, Train Acc Entries: 5, Val Acc Entries: 5\n"
          ]
        },
        {
          "data": {
            "image/png": "[encoded data removed]",
            "text/plain": [
              "<Figure size 1200x600 with 2 Axes>"
            ]
          },
          "metadata": {},
          "output_type": "display_data"
        }
      ],
      "source": [
        "import matplotlib.pyplot as plt\n",
        "import numpy as np\n",
        "\n",
        "# Number of folds (convert to list to avoid range() issues)\n",
        "folds = list(range(1, k_folds + 1))\n",
        "\n",
        "# Ensure number of folds matches recorded metrics\n",
        "print(f\"Folds: {len(folds)}, Train Acc Entries: {len(fold_accuracies)}, Val Acc Entries: {len(fold_losses)}\")\n",
        "\n",
        "# Plot validation accuracies\n",
        "plt.figure(figsize=(12, 6))\n",
        "\n",
        "# Accuracy\n",
        "plt.subplot(1, 2, 1)\n",
        "plt.plot(folds, fold_accuracies, marker='o', linestyle='--', color='b')\n",
        "plt.title('Validation Accuracy per Fold')\n",
        "plt.xlabel('Fold')\n",
        "plt.ylabel('Accuracy')\n",
        "plt.ylim([0, 1])\n",
        "plt.yticks(np.arange(0, 1.1, 0.05))\n",
        "plt.grid(True)\n",
        "\n",
        "# Loss\n",
        "plt.subplot(1, 2, 2)\n",
        "plt.plot(folds, fold_losses, marker='o', linestyle='--', color='r')\n",
        "plt.title('Validation Loss per Fold')\n",
        "plt.xlabel('Fold')\n",
        "plt.ylabel('Loss')\n",
        "plt.grid(True)\n",
        "\n",
        "# Show plots\n",
        "plt.tight_layout()\n",
        "plt.show()"
      ]
    },
    {
      "cell_type": "code",
      "execution_count": 15,
      "metadata": {
        "colab": {
          "base_uri": "https://localhost:8080/"
        },
        "id": "ejXjjthcgQVZ",
        "outputId": "f6e119cf-a868-4a81-de74-ec3919e0c72d"
      },
      "outputs": [
        {
          "name": "stdout",
          "output_type": "stream",
          "text": [
            "Requirement already satisfied: transformers in /usr/local/lib/python3.11/dist-packages (4.49.0)\n",
            "Requirement already satisfied: torch in /usr/local/lib/python3.11/dist-packages (2.6.0+cu124)\n",
            "Collecting gradio\n",
            "  Downloading gradio-5.22.0-py3-none-any.whl.metadata (16 kB)\n",
            "Requirement already satisfied: filelock in /usr/local/lib/python3.11/dist-packages (from transformers) (3.18.0)\n",
            "Requirement already satisfied: huggingface-hub<1.0,>=0.26.0 in /usr/local/lib/python3.11/dist-packages (from transformers) (0.29.3)\n",
            "Requirement already satisfied: numpy>=1.17 in /usr/local/lib/python3.11/dist-packages (from transformers) (2.0.2)\n",
            "Requirement already satisfied: packaging>=20.0 in /usr/local/lib/python3.11/dist-packages (from transformers) (24.2)\n",
            "Requirement already satisfied: pyyaml>=5.1 in /usr/local/lib/python3.11/dist-packages (from transformers) (6.0.2)\n",
            "Requirement already satisfied: regex!=2019.12.17 in /usr/local/lib/python3.11/dist-packages (from transformers) (2024.11.6)\n",
            "Requirement already satisfied: requests in /usr/local/lib/python3.11/dist-packages (from transformers) (2.32.3)\n",
            "Requirement already satisfied: tokenizers<0.22,>=0.21 in /usr/local/lib/python3.11/dist-packages (from transformers) (0.21.1)\n",
            "Requirement already satisfied: safetensors>=0.4.1 in /usr/local/lib/python3.11/dist-packages (from transformers) (0.5.3)\n",
            "Requirement already satisfied: tqdm>=4.27 in /usr/local/lib/python3.11/dist-packages (from transformers) (4.67.1)\n",
            "Requirement already satisfied: typing-extensions>=4.10.0 in /usr/local/lib/python3.11/dist-packages (from torch) (4.12.2)\n",
            "Requirement already satisfied: networkx in /usr/local/lib/python3.11/dist-packages (from torch) (3.4.2)\n",
            "Requirement already satisfied: jinja2 in /usr/local/lib/python3.11/dist-packages (from torch) (3.1.6)\n",
            "Requirement already satisfied: fsspec in /usr/local/lib/python3.11/dist-packages (from torch) (2024.12.0)\n",
            "Requirement already satisfied: nvidia-cuda-nvrtc-cu12==12.4.127 in /usr/local/lib/python3.11/dist-packages (from torch) (12.4.127)\n",
            "Requirement already satisfied: nvidia-cuda-runtime-cu12==12.4.127 in /usr/local/lib/python3.11/dist-packages (from torch) (12.4.127)\n",
            "Requirement already satisfied: nvidia-cuda-cupti-cu12==12.4.127 in /usr/local/lib/python3.11/dist-packages (from torch) (12.4.127)\n",
            "Requirement already satisfied: nvidia-cudnn-cu12==9.1.0.70 in /usr/local/lib/python3.11/dist-packages (from torch) (9.1.0.70)\n",
            "Requirement already satisfied: nvidia-cublas-cu12==12.4.5.8 in /usr/local/lib/python3.11/dist-packages (from torch) (12.4.5.8)\n",
            "Requirement already satisfied: nvidia-cufft-cu12==11.2.1.3 in /usr/local/lib/python3.11/dist-packages (from torch) (11.2.1.3)\n",
            "Requirement already satisfied: nvidia-curand-cu12==10.3.5.147 in /usr/local/lib/python3.11/dist-packages (from torch) (10.3.5.147)\n",
            "Requirement already satisfied: nvidia-cusolver-cu12==11.6.1.9 in /usr/local/lib/python3.11/dist-packages (from torch) (11.6.1.9)\n",
            "Requirement already satisfied: nvidia-cusparse-cu12==12.3.1.170 in /usr/local/lib/python3.11/dist-packages (from torch) (12.3.1.170)\n",
            "Requirement already satisfied: nvidia-cusparselt-cu12==0.6.2 in /usr/local/lib/python3.11/dist-packages (from torch) (0.6.2)\n",
            "Requirement already satisfied: nvidia-nccl-cu12==2.21.5 in /usr/local/lib/python3.11/dist-packages (from torch) (2.21.5)\n",
            "Requirement already satisfied: nvidia-nvtx-cu12==12.4.127 in /usr/local/lib/python3.11/dist-packages (from torch) (12.4.127)\n",
            "Requirement already satisfied: nvidia-nvjitlink-cu12==12.4.127 in /usr/local/lib/python3.11/dist-packages (from torch) (12.4.127)\n",
            "Requirement already satisfied: triton==3.2.0 in /usr/local/lib/python3.11/dist-packages (from torch) (3.2.0)\n",
            "Requirement already satisfied: sympy==1.13.1 in /usr/local/lib/python3.11/dist-packages (from torch) (1.13.1)\n",
            "Requirement already satisfied: mpmath<1.4,>=1.1.0 in /usr/local/lib/python3.11/dist-packages (from sympy==1.13.1->torch) (1.3.0)\n",
            "Collecting aiofiles<24.0,>=22.0 (from gradio)\n",
            "  Downloading aiofiles-23.2.1-py3-none-any.whl.metadata (9.7 kB)\n",
            "Requirement already satisfied: anyio<5.0,>=3.0 in /usr/local/lib/python3.11/dist-packages (from gradio) (4.9.0)\n",
            "Collecting fastapi<1.0,>=0.115.2 (from gradio)\n",
            "  Downloading fastapi-0.115.11-py3-none-any.whl.metadata (27 kB)\n",
            "Collecting ffmpy (from gradio)\n",
            "  Downloading ffmpy-0.5.0-py3-none-any.whl.metadata (3.0 kB)\n",
            "Collecting gradio-client==1.8.0 (from gradio)\n",
            "  Downloading gradio_client-1.8.0-py3-none-any.whl.metadata (7.1 kB)\n",
            "Collecting groovy~=0.1 (from gradio)\n",
            "  Downloading groovy-0.1.2-py3-none-any.whl.metadata (6.1 kB)\n",
            "Requirement already satisfied: httpx>=0.24.1 in /usr/local/lib/python3.11/dist-packages (from gradio) (0.28.1)\n",
            "Requirement already satisfied: markupsafe<4.0,>=2.0 in /usr/local/lib/python3.11/dist-packages (from gradio) (3.0.2)\n",
            "Requirement already satisfied: orjson~=3.0 in /usr/local/lib/python3.11/dist-packages (from gradio) (3.10.15)\n",
            "Requirement already satisfied: pandas<3.0,>=1.0 in /usr/local/lib/python3.11/dist-packages (from gradio) (2.2.2)\n",
            "Requirement already satisfied: pillow<12.0,>=8.0 in /usr/local/lib/python3.11/dist-packages (from gradio) (11.1.0)\n",
            "Requirement already satisfied: pydantic>=2.0 in /usr/local/lib/python3.11/dist-packages (from gradio) (2.10.6)\n",
            "Collecting pydub (from gradio)\n",
            "  Downloading pydub-0.25.1-py2.py3-none-any.whl.metadata (1.4 kB)\n",
            "Collecting python-multipart>=0.0.18 (from gradio)\n",
            "  Downloading python_multipart-0.0.20-py3-none-any.whl.metadata (1.8 kB)\n",
            "Collecting ruff>=0.9.3 (from gradio)\n",
            "  Downloading ruff-0.11.2-py3-none-manylinux_2_17_x86_64.manylinux2014_x86_64.whl.metadata (25 kB)\n",
            "Collecting safehttpx<0.2.0,>=0.1.6 (from gradio)\n",
            "  Downloading safehttpx-0.1.6-py3-none-any.whl.metadata (4.2 kB)\n",
            "Collecting semantic-version~=2.0 (from gradio)\n",
            "  Downloading semantic_version-2.10.0-py2.py3-none-any.whl.metadata (9.7 kB)\n",
            "Collecting starlette<1.0,>=0.40.0 (from gradio)\n",
            "  Downloading starlette-0.46.1-py3-none-any.whl.metadata (6.2 kB)\n",
            "Collecting tomlkit<0.14.0,>=0.12.0 (from gradio)\n",
            "  Downloading tomlkit-0.13.2-py3-none-any.whl.metadata (2.7 kB)\n",
            "Requirement already satisfied: typer<1.0,>=0.12 in /usr/local/lib/python3.11/dist-packages (from gradio) (0.15.2)\n",
            "Collecting uvicorn>=0.14.0 (from gradio)\n",
            "  Downloading uvicorn-0.34.0-py3-none-any.whl.metadata (6.5 kB)\n",
            "Requirement already satisfied: websockets<16.0,>=10.0 in /usr/local/lib/python3.11/dist-packages (from gradio-client==1.8.0->gradio) (14.2)\n",
            "Requirement already satisfied: idna>=2.8 in /usr/local/lib/python3.11/dist-packages (from anyio<5.0,>=3.0->gradio) (3.10)\n",
            "Requirement already satisfied: sniffio>=1.1 in /usr/local/lib/python3.11/dist-packages (from anyio<5.0,>=3.0->gradio) (1.3.1)\n",
            "Requirement already satisfied: certifi in /usr/local/lib/python3.11/dist-packages (from httpx>=0.24.1->gradio) (2025.1.31)\n",
            "Requirement already satisfied: httpcore==1.* in /usr/local/lib/python3.11/dist-packages (from httpx>=0.24.1->gradio) (1.0.7)\n",
            "Requirement already satisfied: h11<0.15,>=0.13 in /usr/local/lib/python3.11/dist-packages (from httpcore==1.*->httpx>=0.24.1->gradio) (0.14.0)\n",
            "Requirement already satisfied: python-dateutil>=2.8.2 in /usr/local/lib/python3.11/dist-packages (from pandas<3.0,>=1.0->gradio) (2.8.2)\n",
            "Requirement already satisfied: pytz>=2020.1 in /usr/local/lib/python3.11/dist-packages (from pandas<3.0,>=1.0->gradio) (2025.1)\n",
            "Requirement already satisfied: tzdata>=2022.7 in /usr/local/lib/python3.11/dist-packages (from pandas<3.0,>=1.0->gradio) (2025.1)\n",
            "Requirement already satisfied: annotated-types>=0.6.0 in /usr/local/lib/python3.11/dist-packages (from pydantic>=2.0->gradio) (0.7.0)\n",
            "Requirement already satisfied: pydantic-core==2.27.2 in /usr/local/lib/python3.11/dist-packages (from pydantic>=2.0->gradio) (2.27.2)\n",
            "Requirement already satisfied: click>=8.0.0 in /usr/local/lib/python3.11/dist-packages (from typer<1.0,>=0.12->gradio) (8.1.8)\n",
            "Requirement already satisfied: shellingham>=1.3.0 in /usr/local/lib/python3.11/dist-packages (from typer<1.0,>=0.12->gradio) (1.5.4)\n",
            "Requirement already satisfied: rich>=10.11.0 in /usr/local/lib/python3.11/dist-packages (from typer<1.0,>=0.12->gradio) (13.9.4)\n",
            "Requirement already satisfied: charset-normalizer<4,>=2 in /usr/local/lib/python3.11/dist-packages (from requests->transformers) (3.4.1)\n",
            "Requirement already satisfied: urllib3<3,>=1.21.1 in /usr/local/lib/python3.11/dist-packages (from requests->transformers) (2.3.0)\n",
            "Requirement already satisfied: six>=1.5 in /usr/local/lib/python3.11/dist-packages (from python-dateutil>=2.8.2->pandas<3.0,>=1.0->gradio) (1.17.0)\n",
            "Requirement already satisfied: markdown-it-py>=2.2.0 in /usr/local/lib/python3.11/dist-packages (from rich>=10.11.0->typer<1.0,>=0.12->gradio) (3.0.0)\n",
            "Requirement already satisfied: pygments<3.0.0,>=2.13.0 in /usr/local/lib/python3.11/dist-packages (from rich>=10.11.0->typer<1.0,>=0.12->gradio) (2.18.0)\n",
            "Requirement already satisfied: mdurl~=0.1 in /usr/local/lib/python3.11/dist-packages (from markdown-it-py>=2.2.0->rich>=10.11.0->typer<1.0,>=0.12->gradio) (0.1.2)\n",
            "Downloading gradio-5.22.0-py3-none-any.whl (46.2 MB)\n",
            "\u001b[2K   \u001b[90m━━━━━━━━━━━━━━━━━━━━━━━━━━━━━━━━━━━━━━━━\u001b[0m \u001b[32m46.2/46.2 MB\u001b[0m \u001b[31m23.4 MB/s\u001b[0m eta \u001b[36m0:00:00\u001b[0m\n",
            "\u001b[?25hDownloading gradio_client-1.8.0-py3-none-any.whl (322 kB)\n",
            "\u001b[2K   \u001b[90m━━━━━━━━━━━━━━━━━━━━━━━━━━━━━━━━━━━━━━━━\u001b[0m \u001b[32m322.2/322.2 kB\u001b[0m \u001b[31m33.7 MB/s\u001b[0m eta \u001b[36m0:00:00\u001b[0m\n",
            "\u001b[?25hDownloading aiofiles-23.2.1-py3-none-any.whl (15 kB)\n",
            "Downloading fastapi-0.115.11-py3-none-any.whl (94 kB)\n",
            "\u001b[2K   \u001b[90m━━━━━━━━━━━━━━━━━━━━━━━━━━━━━━━━━━━━━━━━\u001b[0m \u001b[32m94.9/94.9 kB\u001b[0m \u001b[31m9.6 MB/s\u001b[0m eta \u001b[36m0:00:00\u001b[0m\n",
            "\u001b[?25hDownloading groovy-0.1.2-py3-none-any.whl (14 kB)\n",
            "Downloading python_multipart-0.0.20-py3-none-any.whl (24 kB)\n",
            "Downloading ruff-0.11.2-py3-none-manylinux_2_17_x86_64.manylinux2014_x86_64.whl (11.3 MB)\n",
            "\u001b[2K   \u001b[90m━━━━━━━━━━━━━━━━━━━━━━━━━━━━━━━━━━━━━━━━\u001b[0m \u001b[32m11.3/11.3 MB\u001b[0m \u001b[31m48.2 MB/s\u001b[0m eta \u001b[36m0:00:00\u001b[0m\n",
            "\u001b[?25hDownloading safehttpx-0.1.6-py3-none-any.whl (8.7 kB)\n",
            "Downloading semantic_version-2.10.0-py2.py3-none-any.whl (15 kB)\n",
            "Downloading starlette-0.46.1-py3-none-any.whl (71 kB)\n",
            "\u001b[2K   \u001b[90m━━━━━━━━━━━━━━━━━━━━━━━━━━━━━━━━━━━━━━━━\u001b[0m \u001b[32m72.0/72.0 kB\u001b[0m \u001b[31m9.5 MB/s\u001b[0m eta \u001b[36m0:00:00\u001b[0m\n",
            "\u001b[?25hDownloading tomlkit-0.13.2-py3-none-any.whl (37 kB)\n",
            "Downloading uvicorn-0.34.0-py3-none-any.whl (62 kB)\n",
            "\u001b[2K   \u001b[90m━━━━━━━━━━━━━━━━━━━━━━━━━━━━━━━━━━━━━━━━\u001b[0m \u001b[32m62.3/62.3 kB\u001b[0m \u001b[31m8.0 MB/s\u001b[0m eta \u001b[36m0:00:00\u001b[0m\n",
            "\u001b[?25hDownloading ffmpy-0.5.0-py3-none-any.whl (6.0 kB)\n",
            "Downloading pydub-0.25.1-py2.py3-none-any.whl (32 kB)\n",
            "Installing collected packages: pydub, uvicorn, tomlkit, semantic-version, ruff, python-multipart, groovy, ffmpy, aiofiles, starlette, safehttpx, gradio-client, fastapi, gradio\n",
            "Successfully installed aiofiles-23.2.1 fastapi-0.115.11 ffmpy-0.5.0 gradio-5.22.0 gradio-client-1.8.0 groovy-0.1.2 pydub-0.25.1 python-multipart-0.0.20 ruff-0.11.2 safehttpx-0.1.6 semantic-version-2.10.0 starlette-0.46.1 tomlkit-0.13.2 uvicorn-0.34.0\n"
          ]
        }
      ],
      "source": [
        "!pip install transformers torch gradio"
      ]
    },
    {
      "cell_type": "code",
      "execution_count": 16,
      "metadata": {
        "colab": {
          "base_uri": "https://localhost:8080/",
          "height": 646
        },
        "id": "_ccrVQCrNQj8",
        "outputId": "552a1f44-3a2e-402d-a51d-66e3daad902e"
      },
      "outputs": [
        {
          "name": "stderr",
          "output_type": "stream",
          "text": [
            "<ipython-input-16-4eb9ef003eda>:50: UserWarning: You have not specified a value for the `type` parameter. Defaulting to the 'tuples' format for chatbot messages, but this is deprecated and will be removed in a future version of Gradio. Please set type='messages' instead, which uses openai-style dictionaries with 'role' and 'content' keys.\n",
            "  chatbot = gr.Chatbot(label=\"Conversation Log\")\n"
          ]
        },
        {
          "name": "stdout",
          "output_type": "stream",
          "text": [
            "Colab notebook detected. To show errors in colab notebook, set debug=True in launch()\n",
            "* Running on public URL: https://f1d78df6190f1cc206.gradio.live\n",
            "\n",
            "This share link expires in 72 hours. For free permanent hosting and GPU upgrades, run `gradio deploy` from the terminal in the working directory to deploy to Hugging Face Spaces (https://huggingface.co/spaces)\n"
          ]
        },
        {
          "data": {
            "text/html": [
              "<div><iframe src=\"https://f1d78df6190f1cc206.gradio.live\" width=\"100%\" height=\"500\" allow=\"autoplay; camera; microphone; clipboard-read; clipboard-write;\" frameborder=\"0\" allowfullscreen></iframe></div>"
            ],
            "text/plain": [
              "<IPython.core.display.HTML object>"
            ]
          },
          "metadata": {},
          "output_type": "display_data"
        },
        {
          "data": {
            "text/plain": []
          },
          "execution_count": 16,
          "metadata": {},
          "output_type": "execute_result"
        }
      ],
      "source": [
        "import torch\n",
        "from transformers import GPT2Tokenizer, GPTNeoForSequenceClassification\n",
        "import gradio as gr\n",
        "\n",
        "device = \"cuda\" if torch.cuda.is_available() else \"cpu\"\n",
        "\n",
        "# Load tokenizer and trained model\n",
        "tokenizer = GPT2Tokenizer.from_pretrained(\"best_gpt_neo\")  # Ensure correct tokenizer\n",
        "model = GPTNeoForSequenceClassification.from_pretrained(\"best_gpt_neo\").to(device)  # Load full model\n",
        "model.eval()\n",
        "\n",
        "def classify_caller_message(caller_messages, scam_detected=False):\n",
        "    scam_threshold = 0.7 if scam_detected else 0.5\n",
        "    if not caller_messages:\n",
        "        return \"No caller messages to analyze.\", scam_detected\n",
        "\n",
        "    input_text = \" \".join([f\"Caller: {text}\" for text in caller_messages])\n",
        "    inputs = tokenizer(input_text, padding=True, truncation=True, return_tensors=\"pt\").to(device)\n",
        "\n",
        "    with torch.no_grad():\n",
        "        outputs = model(**inputs)\n",
        "\n",
        "    logits = outputs.logits\n",
        "    probabilities = torch.softmax(logits, dim=-1)\n",
        "    prediction = probabilities[:, 1].item()  # Class 1 probability\n",
        "\n",
        "    is_scam = prediction > scam_threshold\n",
        "    response = \"🚨 Scam Alert: This message might be a scam!\" if is_scam else \"✅ Caller message seems safe.\"\n",
        "    return response, is_scam\n",
        "\n",
        "# Gradio Chat Interface\n",
        "def chat_interface(speaker, message, conversation_log=[], caller_messages=[], scam_detected=False):\n",
        "    \"\"\"\n",
        "    Handles the chat flow while ensuring only the caller's messages affect scam classification.\n",
        "    \"\"\"\n",
        "    conversation_log.append((speaker, message))  # Append to full log\n",
        "\n",
        "    if speaker == \"caller\":\n",
        "        caller_messages.append(message)  # Only keep caller messages for classification\n",
        "        response, scam_detected = classify_caller_message(caller_messages, scam_detected)\n",
        "        conversation_log.append((\"System\", response))\n",
        "    else:\n",
        "        response = \"✅ Receiver message recorded (ignored for scam detection).\"  # Receiver messages do not affect model\n",
        "        conversation_log.append((\"System\", response))\n",
        "\n",
        "    return conversation_log, caller_messages, scam_detected, \"\"  # Updated states & reset input\n",
        "\n",
        "# Create Gradio UI\n",
        "with gr.Blocks() as demo:\n",
        "    chatbot = gr.Chatbot(label=\"Conversation Log\")\n",
        "    speaker = gr.Dropdown([\"caller\", \"receiver\"], label=\"Speaker\")\n",
        "    msg = gr.Textbox(placeholder=\"Enter message...\")\n",
        "    clear = gr.Button(\"Clear Chat\")\n",
        "\n",
        "    # Maintain separate states\n",
        "    caller_messages = gr.State([])  # Stores only caller messages\n",
        "    scam_flag = gr.State(False)  # Tracks scam detection\n",
        "\n",
        "    msg.submit(chat_interface, [speaker, msg, chatbot, caller_messages, scam_flag],\n",
        "               [chatbot, caller_messages, scam_flag, msg])\n",
        "\n",
        "    clear.click(lambda: ([], [], False, \"\"), outputs=[chatbot, caller_messages, scam_flag, msg])\n",
        "\n",
        "# Launch Gradio App\n",
        "demo.launch(share=True)\n"
      ]
    }
  ],
  "metadata": {
    "accelerator": "GPU",
    "colab": {
      "gpuType": "T4",
      "provenance": []
    },
    "kernelspec": {
      "display_name": "Python 3",
      "name": "python3"
    },
    "language_info": {
      "name": "python"
    }
  },
  "nbformat": 4,
  "nbformat_minor": 0
}
